{
 "cells": [
  {
   "cell_type": "markdown",
   "metadata": {},
   "source": [
    "## Phase One Project Submission\n",
    "\n",
    "* Student name: Lydia Cuffman, Ramses Nestor Reis, Michael Romanski\n",
    "* Student pace: full time\n",
    "* Scheduled project review date/time: July 14, 2023\n",
    "* Instructor name: Daniel Burdeno"
   ]
  },
  {
   "cell_type": "markdown",
   "metadata": {},
   "source": [
    "### Overview\n",
    "\n",
    "Our client is looking to enter the aviation industry and has asked us to determine how to maximize safety in this endeavor. Using data provided by the National Transportation Safety Board (NTSB) we have determined the following:\n",
    "\n",
    "*Our client should invest in a Boeing aircraft that has at least two engines. \n",
    "\n",
    "*Our client should fly on-demand, unscheduled operations under Federal Aviation Regulation Part 135. \n",
    "\n",
    "*Our client should pursue regional business in the United States but outside of the Northeast.\n"
   ]
  },
  {
   "cell_type": "markdown",
   "metadata": {},
   "source": [
    "### Business Understanding\n",
    "\n",
    "Our client's top concern is safety. They want to know what type of aircraft is safest and how to ensure it flies safely. This benefits their bottom line too, because a focus on safety can burnish their brand in the eyes of customers. Safe flights also protect their capital investment."
   ]
  },
  {
   "cell_type": "markdown",
   "metadata": {},
   "source": [
    "### Data Understanding\n",
    "\n",
    "This data represents aviation accidents and incidents documented by the NTSB from 1968 to present. It provides details about the make and model of the aircraft involved as well as the type and number of engines. The data include numbers of injuries, categorized by severity. Entries also detail the location of the accident, the rules the plane was flying under, the date of the incident, and whether the pilot could fly visually (good weather) or with instruments (poor weather).\n",
    "\n",
    "The biggest limitation of this dataset is that it only includes flights that had a problem. Theoretically, a perfect plane would never crash and thus would not appear in this dataset. While the data did not allow us to determine the ratio of uneventful flights to crashes, we were able to find valuable information about the severity of crashes. Our analysis shows the likelihood of injury if a particular plane does crash. Realistically, accidents do happen and there are no perfect aircraft. We can tell our client which planes are the safest when things go wrong."
   ]
  },
  {
   "cell_type": "markdown",
   "metadata": {},
   "source": [
    "### Data Analysis"
   ]
  },
  {
   "cell_type": "code",
   "execution_count": 1,
   "metadata": {},
   "outputs": [],
   "source": [
    "#Import Packages\n",
    "import pandas as pd\n",
    "import matplotlib.pyplot as plt\n",
    "\n",
    "%matplotlib inline"
   ]
  },
  {
   "cell_type": "code",
   "execution_count": 2,
   "metadata": {
    "scrolled": true
   },
   "outputs": [
    {
     "name": "stderr",
     "output_type": "stream",
     "text": [
      "/Users/michaelromanski/anaconda3/envs/learn-env/lib/python3.8/site-packages/IPython/core/interactiveshell.py:3145: DtypeWarning: Columns (6,7,28) have mixed types.Specify dtype option on import or set low_memory=False.\n",
      "  has_raised = await self.run_ast_nodes(code_ast.body, cell_name,\n"
     ]
    }
   ],
   "source": [
    "# Loading in Aviation_data.csv\n",
    "df = pd.read_csv('data/Aviation_Data.csv')"
   ]
  },
  {
   "cell_type": "code",
   "execution_count": 3,
   "metadata": {},
   "outputs": [],
   "source": [
    "# Creating a new DataFrame to keep original intact\n",
    "aviation_df = df.copy()"
   ]
  },
  {
   "cell_type": "markdown",
   "metadata": {},
   "source": [
    "We quickly eliminated columns that were not germane to our analysis. For example, our client is not seeking to purchase an already existing commercial airline, so \"Air.carrier\" was not useful. \"Broad.phase.of.flight\" would probably yield good information about the relative safety of various parts of a flight, but we wouldn't be able to recommend to our client that they avoid takeoffs and landings altogether, should we discover they were the most dangerous phases. Some categories like \"Registration.Number\" and \"Investigation.Type\" were more connected to internal NTSB processes."
   ]
  },
  {
   "cell_type": "code",
   "execution_count": 4,
   "metadata": {},
   "outputs": [
    {
     "data": {
      "text/html": [
       "<div>\n",
       "<style scoped>\n",
       "    .dataframe tbody tr th:only-of-type {\n",
       "        vertical-align: middle;\n",
       "    }\n",
       "\n",
       "    .dataframe tbody tr th {\n",
       "        vertical-align: top;\n",
       "    }\n",
       "\n",
       "    .dataframe thead th {\n",
       "        text-align: right;\n",
       "    }\n",
       "</style>\n",
       "<table border=\"1\" class=\"dataframe\">\n",
       "  <thead>\n",
       "    <tr style=\"text-align: right;\">\n",
       "      <th></th>\n",
       "      <th>Event.Date</th>\n",
       "      <th>Location</th>\n",
       "      <th>Country</th>\n",
       "      <th>Injury.Severity</th>\n",
       "      <th>Aircraft.damage</th>\n",
       "      <th>Make</th>\n",
       "      <th>Model</th>\n",
       "      <th>Amateur.Built</th>\n",
       "      <th>Number.of.Engines</th>\n",
       "      <th>Engine.Type</th>\n",
       "      <th>FAR.Description</th>\n",
       "      <th>Purpose.of.flight</th>\n",
       "      <th>Total.Fatal.Injuries</th>\n",
       "      <th>Total.Serious.Injuries</th>\n",
       "      <th>Total.Minor.Injuries</th>\n",
       "      <th>Total.Uninjured</th>\n",
       "      <th>Weather.Condition</th>\n",
       "      <th>Report.Status</th>\n",
       "    </tr>\n",
       "  </thead>\n",
       "  <tbody>\n",
       "    <tr>\n",
       "      <th>0</th>\n",
       "      <td>1948-10-24</td>\n",
       "      <td>MOOSE CREEK, ID</td>\n",
       "      <td>United States</td>\n",
       "      <td>Fatal(2)</td>\n",
       "      <td>Destroyed</td>\n",
       "      <td>Stinson</td>\n",
       "      <td>108-3</td>\n",
       "      <td>No</td>\n",
       "      <td>1.0</td>\n",
       "      <td>Reciprocating</td>\n",
       "      <td>NaN</td>\n",
       "      <td>Personal</td>\n",
       "      <td>2.0</td>\n",
       "      <td>0.0</td>\n",
       "      <td>0.0</td>\n",
       "      <td>0.0</td>\n",
       "      <td>UNK</td>\n",
       "      <td>Probable Cause</td>\n",
       "    </tr>\n",
       "    <tr>\n",
       "      <th>1</th>\n",
       "      <td>1962-07-19</td>\n",
       "      <td>BRIDGEPORT, CA</td>\n",
       "      <td>United States</td>\n",
       "      <td>Fatal(4)</td>\n",
       "      <td>Destroyed</td>\n",
       "      <td>Piper</td>\n",
       "      <td>PA24-180</td>\n",
       "      <td>No</td>\n",
       "      <td>1.0</td>\n",
       "      <td>Reciprocating</td>\n",
       "      <td>NaN</td>\n",
       "      <td>Personal</td>\n",
       "      <td>4.0</td>\n",
       "      <td>0.0</td>\n",
       "      <td>0.0</td>\n",
       "      <td>0.0</td>\n",
       "      <td>UNK</td>\n",
       "      <td>Probable Cause</td>\n",
       "    </tr>\n",
       "    <tr>\n",
       "      <th>2</th>\n",
       "      <td>1974-08-30</td>\n",
       "      <td>Saltville, VA</td>\n",
       "      <td>United States</td>\n",
       "      <td>Fatal(3)</td>\n",
       "      <td>Destroyed</td>\n",
       "      <td>Cessna</td>\n",
       "      <td>172M</td>\n",
       "      <td>No</td>\n",
       "      <td>1.0</td>\n",
       "      <td>Reciprocating</td>\n",
       "      <td>NaN</td>\n",
       "      <td>Personal</td>\n",
       "      <td>3.0</td>\n",
       "      <td>NaN</td>\n",
       "      <td>NaN</td>\n",
       "      <td>NaN</td>\n",
       "      <td>IMC</td>\n",
       "      <td>Probable Cause</td>\n",
       "    </tr>\n",
       "    <tr>\n",
       "      <th>3</th>\n",
       "      <td>1977-06-19</td>\n",
       "      <td>EUREKA, CA</td>\n",
       "      <td>United States</td>\n",
       "      <td>Fatal(2)</td>\n",
       "      <td>Destroyed</td>\n",
       "      <td>Rockwell</td>\n",
       "      <td>112</td>\n",
       "      <td>No</td>\n",
       "      <td>1.0</td>\n",
       "      <td>Reciprocating</td>\n",
       "      <td>NaN</td>\n",
       "      <td>Personal</td>\n",
       "      <td>2.0</td>\n",
       "      <td>0.0</td>\n",
       "      <td>0.0</td>\n",
       "      <td>0.0</td>\n",
       "      <td>IMC</td>\n",
       "      <td>Probable Cause</td>\n",
       "    </tr>\n",
       "    <tr>\n",
       "      <th>4</th>\n",
       "      <td>1979-08-02</td>\n",
       "      <td>Canton, OH</td>\n",
       "      <td>United States</td>\n",
       "      <td>Fatal(1)</td>\n",
       "      <td>Destroyed</td>\n",
       "      <td>Cessna</td>\n",
       "      <td>501</td>\n",
       "      <td>No</td>\n",
       "      <td>NaN</td>\n",
       "      <td>NaN</td>\n",
       "      <td>NaN</td>\n",
       "      <td>Personal</td>\n",
       "      <td>1.0</td>\n",
       "      <td>2.0</td>\n",
       "      <td>NaN</td>\n",
       "      <td>0.0</td>\n",
       "      <td>VMC</td>\n",
       "      <td>Probable Cause</td>\n",
       "    </tr>\n",
       "    <tr>\n",
       "      <th>...</th>\n",
       "      <td>...</td>\n",
       "      <td>...</td>\n",
       "      <td>...</td>\n",
       "      <td>...</td>\n",
       "      <td>...</td>\n",
       "      <td>...</td>\n",
       "      <td>...</td>\n",
       "      <td>...</td>\n",
       "      <td>...</td>\n",
       "      <td>...</td>\n",
       "      <td>...</td>\n",
       "      <td>...</td>\n",
       "      <td>...</td>\n",
       "      <td>...</td>\n",
       "      <td>...</td>\n",
       "      <td>...</td>\n",
       "      <td>...</td>\n",
       "      <td>...</td>\n",
       "    </tr>\n",
       "    <tr>\n",
       "      <th>90343</th>\n",
       "      <td>2022-12-26</td>\n",
       "      <td>Annapolis, MD</td>\n",
       "      <td>United States</td>\n",
       "      <td>Minor</td>\n",
       "      <td>NaN</td>\n",
       "      <td>PIPER</td>\n",
       "      <td>PA-28-151</td>\n",
       "      <td>No</td>\n",
       "      <td>NaN</td>\n",
       "      <td>NaN</td>\n",
       "      <td>091</td>\n",
       "      <td>Personal</td>\n",
       "      <td>0.0</td>\n",
       "      <td>1.0</td>\n",
       "      <td>0.0</td>\n",
       "      <td>0.0</td>\n",
       "      <td>NaN</td>\n",
       "      <td>NaN</td>\n",
       "    </tr>\n",
       "    <tr>\n",
       "      <th>90344</th>\n",
       "      <td>2022-12-26</td>\n",
       "      <td>Hampton, NH</td>\n",
       "      <td>United States</td>\n",
       "      <td>NaN</td>\n",
       "      <td>NaN</td>\n",
       "      <td>BELLANCA</td>\n",
       "      <td>7ECA</td>\n",
       "      <td>No</td>\n",
       "      <td>NaN</td>\n",
       "      <td>NaN</td>\n",
       "      <td>NaN</td>\n",
       "      <td>NaN</td>\n",
       "      <td>0.0</td>\n",
       "      <td>0.0</td>\n",
       "      <td>0.0</td>\n",
       "      <td>0.0</td>\n",
       "      <td>NaN</td>\n",
       "      <td>NaN</td>\n",
       "    </tr>\n",
       "    <tr>\n",
       "      <th>90345</th>\n",
       "      <td>2022-12-26</td>\n",
       "      <td>Payson, AZ</td>\n",
       "      <td>United States</td>\n",
       "      <td>Non-Fatal</td>\n",
       "      <td>Substantial</td>\n",
       "      <td>AMERICAN CHAMPION AIRCRAFT</td>\n",
       "      <td>8GCBC</td>\n",
       "      <td>No</td>\n",
       "      <td>1.0</td>\n",
       "      <td>NaN</td>\n",
       "      <td>091</td>\n",
       "      <td>Personal</td>\n",
       "      <td>0.0</td>\n",
       "      <td>0.0</td>\n",
       "      <td>0.0</td>\n",
       "      <td>1.0</td>\n",
       "      <td>VMC</td>\n",
       "      <td>NaN</td>\n",
       "    </tr>\n",
       "    <tr>\n",
       "      <th>90346</th>\n",
       "      <td>2022-12-26</td>\n",
       "      <td>Morgan, UT</td>\n",
       "      <td>United States</td>\n",
       "      <td>NaN</td>\n",
       "      <td>NaN</td>\n",
       "      <td>CESSNA</td>\n",
       "      <td>210N</td>\n",
       "      <td>No</td>\n",
       "      <td>NaN</td>\n",
       "      <td>NaN</td>\n",
       "      <td>091</td>\n",
       "      <td>Personal</td>\n",
       "      <td>0.0</td>\n",
       "      <td>0.0</td>\n",
       "      <td>0.0</td>\n",
       "      <td>0.0</td>\n",
       "      <td>NaN</td>\n",
       "      <td>NaN</td>\n",
       "    </tr>\n",
       "    <tr>\n",
       "      <th>90347</th>\n",
       "      <td>2022-12-29</td>\n",
       "      <td>Athens, GA</td>\n",
       "      <td>United States</td>\n",
       "      <td>Minor</td>\n",
       "      <td>NaN</td>\n",
       "      <td>PIPER</td>\n",
       "      <td>PA-24-260</td>\n",
       "      <td>No</td>\n",
       "      <td>NaN</td>\n",
       "      <td>NaN</td>\n",
       "      <td>091</td>\n",
       "      <td>Personal</td>\n",
       "      <td>0.0</td>\n",
       "      <td>1.0</td>\n",
       "      <td>0.0</td>\n",
       "      <td>1.0</td>\n",
       "      <td>NaN</td>\n",
       "      <td>NaN</td>\n",
       "    </tr>\n",
       "  </tbody>\n",
       "</table>\n",
       "<p>90348 rows × 18 columns</p>\n",
       "</div>"
      ],
      "text/plain": [
       "       Event.Date         Location        Country Injury.Severity  \\\n",
       "0      1948-10-24  MOOSE CREEK, ID  United States        Fatal(2)   \n",
       "1      1962-07-19   BRIDGEPORT, CA  United States        Fatal(4)   \n",
       "2      1974-08-30    Saltville, VA  United States        Fatal(3)   \n",
       "3      1977-06-19       EUREKA, CA  United States        Fatal(2)   \n",
       "4      1979-08-02       Canton, OH  United States        Fatal(1)   \n",
       "...           ...              ...            ...             ...   \n",
       "90343  2022-12-26    Annapolis, MD  United States           Minor   \n",
       "90344  2022-12-26      Hampton, NH  United States             NaN   \n",
       "90345  2022-12-26       Payson, AZ  United States       Non-Fatal   \n",
       "90346  2022-12-26       Morgan, UT  United States             NaN   \n",
       "90347  2022-12-29       Athens, GA  United States           Minor   \n",
       "\n",
       "      Aircraft.damage                        Make      Model Amateur.Built  \\\n",
       "0           Destroyed                     Stinson      108-3            No   \n",
       "1           Destroyed                       Piper   PA24-180            No   \n",
       "2           Destroyed                      Cessna       172M            No   \n",
       "3           Destroyed                    Rockwell        112            No   \n",
       "4           Destroyed                      Cessna        501            No   \n",
       "...               ...                         ...        ...           ...   \n",
       "90343             NaN                       PIPER  PA-28-151            No   \n",
       "90344             NaN                    BELLANCA       7ECA            No   \n",
       "90345     Substantial  AMERICAN CHAMPION AIRCRAFT      8GCBC            No   \n",
       "90346             NaN                      CESSNA       210N            No   \n",
       "90347             NaN                       PIPER  PA-24-260            No   \n",
       "\n",
       "       Number.of.Engines    Engine.Type FAR.Description Purpose.of.flight  \\\n",
       "0                    1.0  Reciprocating             NaN          Personal   \n",
       "1                    1.0  Reciprocating             NaN          Personal   \n",
       "2                    1.0  Reciprocating             NaN          Personal   \n",
       "3                    1.0  Reciprocating             NaN          Personal   \n",
       "4                    NaN            NaN             NaN          Personal   \n",
       "...                  ...            ...             ...               ...   \n",
       "90343                NaN            NaN             091          Personal   \n",
       "90344                NaN            NaN             NaN               NaN   \n",
       "90345                1.0            NaN             091          Personal   \n",
       "90346                NaN            NaN             091          Personal   \n",
       "90347                NaN            NaN             091          Personal   \n",
       "\n",
       "       Total.Fatal.Injuries  Total.Serious.Injuries  Total.Minor.Injuries  \\\n",
       "0                       2.0                     0.0                   0.0   \n",
       "1                       4.0                     0.0                   0.0   \n",
       "2                       3.0                     NaN                   NaN   \n",
       "3                       2.0                     0.0                   0.0   \n",
       "4                       1.0                     2.0                   NaN   \n",
       "...                     ...                     ...                   ...   \n",
       "90343                   0.0                     1.0                   0.0   \n",
       "90344                   0.0                     0.0                   0.0   \n",
       "90345                   0.0                     0.0                   0.0   \n",
       "90346                   0.0                     0.0                   0.0   \n",
       "90347                   0.0                     1.0                   0.0   \n",
       "\n",
       "       Total.Uninjured Weather.Condition   Report.Status  \n",
       "0                  0.0               UNK  Probable Cause  \n",
       "1                  0.0               UNK  Probable Cause  \n",
       "2                  NaN               IMC  Probable Cause  \n",
       "3                  0.0               IMC  Probable Cause  \n",
       "4                  0.0               VMC  Probable Cause  \n",
       "...                ...               ...             ...  \n",
       "90343              0.0               NaN             NaN  \n",
       "90344              0.0               NaN             NaN  \n",
       "90345              1.0               VMC             NaN  \n",
       "90346              0.0               NaN             NaN  \n",
       "90347              1.0               NaN             NaN  \n",
       "\n",
       "[90348 rows x 18 columns]"
      ]
     },
     "execution_count": 4,
     "metadata": {},
     "output_type": "execute_result"
    }
   ],
   "source": [
    "# Selecting relevant columns for analysis\n",
    "aviation_df = aviation_df.drop(['Latitude', 'Longitude', 'Airport.Code', 'Airport.Name', 'Aircraft.Category', 'Publication.Date', 'Air.carrier', 'Broad.phase.of.flight', 'Event.Id', 'Accident.Number', 'Investigation.Type', 'Registration.Number', 'Schedule'], axis=1)\n",
    "aviation_df                               "
   ]
  },
  {
   "cell_type": "markdown",
   "metadata": {},
   "source": [
    "Then we began cleaning the data."
   ]
  },
  {
   "cell_type": "code",
   "execution_count": 5,
   "metadata": {},
   "outputs": [],
   "source": [
    "# Replacing dot to space in column names\n",
    "aviation_df = aviation_df.rename(columns=lambda x: x.replace('.', ' '))"
   ]
  },
  {
   "cell_type": "code",
   "execution_count": 6,
   "metadata": {},
   "outputs": [],
   "source": [
    "# Capitalizing all values in Make\n",
    "aviation_df['Make'] = aviation_df['Make'].str.capitalize()"
   ]
  },
  {
   "cell_type": "code",
   "execution_count": 7,
   "metadata": {},
   "outputs": [],
   "source": [
    "# Capitalizing all columns\n",
    "aviation_df = aviation_df.rename(columns=str.capitalize)"
   ]
  },
  {
   "cell_type": "markdown",
   "metadata": {},
   "source": [
    "We made a new data frame of U.S. states and their region, and prepped the aviation_df to join it."
   ]
  },
  {
   "cell_type": "code",
   "execution_count": 8,
   "metadata": {},
   "outputs": [],
   "source": [
    "# Changing location to just the state abbreviation\n",
    "aviation_df['Location'] = aviation_df['Location'].str[-2:]"
   ]
  },
  {
   "cell_type": "code",
   "execution_count": 9,
   "metadata": {},
   "outputs": [],
   "source": [
    "# Reading in data that pairs each state abbreviation with its census-designated region\n",
    "states_df = pd.read_csv('data/Census_regions.csv')"
   ]
  },
  {
   "cell_type": "markdown",
   "metadata": {},
   "source": [
    "### Data from here: https://github.com/cphalpert/census-regions/blob/master/us%20census%20bureau%20regions%20and%20divisions.csv"
   ]
  },
  {
   "cell_type": "code",
   "execution_count": 10,
   "metadata": {},
   "outputs": [],
   "source": [
    "states_df = states_df.drop(['State','Division'], axis=1)"
   ]
  },
  {
   "cell_type": "code",
   "execution_count": 11,
   "metadata": {},
   "outputs": [],
   "source": [
    "states_df.set_index('State Code', inplace=True)"
   ]
  },
  {
   "cell_type": "code",
   "execution_count": 12,
   "metadata": {},
   "outputs": [],
   "source": [
    "aviation_df = aviation_df.rename(columns={'Location':'State Code'})"
   ]
  },
  {
   "cell_type": "code",
   "execution_count": 13,
   "metadata": {},
   "outputs": [],
   "source": [
    "aviation_df = aviation_df.join(states_df, on='State Code', how='left')"
   ]
  },
  {
   "cell_type": "markdown",
   "metadata": {},
   "source": [
    "The FAR descriptions were messy and inconsistent. We needed to do a lot of renaming to properly categorize them."
   ]
  },
  {
   "cell_type": "code",
   "execution_count": 14,
   "metadata": {},
   "outputs": [],
   "source": [
    "aviation_df.rename(columns={'Far description': 'FAR description'}, inplace=True)"
   ]
  },
  {
   "cell_type": "code",
   "execution_count": 15,
   "metadata": {},
   "outputs": [
    {
     "data": {
      "text/html": [
       "<div>\n",
       "<style scoped>\n",
       "    .dataframe tbody tr th:only-of-type {\n",
       "        vertical-align: middle;\n",
       "    }\n",
       "\n",
       "    .dataframe tbody tr th {\n",
       "        vertical-align: top;\n",
       "    }\n",
       "\n",
       "    .dataframe thead th {\n",
       "        text-align: right;\n",
       "    }\n",
       "</style>\n",
       "<table border=\"1\" class=\"dataframe\">\n",
       "  <thead>\n",
       "    <tr style=\"text-align: right;\">\n",
       "      <th></th>\n",
       "      <th>Number of engines</th>\n",
       "      <th>Total fatal injuries</th>\n",
       "      <th>Total serious injuries</th>\n",
       "      <th>Total minor injuries</th>\n",
       "      <th>Total uninjured</th>\n",
       "    </tr>\n",
       "    <tr>\n",
       "      <th>FAR description</th>\n",
       "      <th></th>\n",
       "      <th></th>\n",
       "      <th></th>\n",
       "      <th></th>\n",
       "      <th></th>\n",
       "    </tr>\n",
       "  </thead>\n",
       "  <tbody>\n",
       "    <tr>\n",
       "      <th>091</th>\n",
       "      <td>18655.0</td>\n",
       "      <td>5450.0</td>\n",
       "      <td>4741.0</td>\n",
       "      <td>3197.0</td>\n",
       "      <td>19713.0</td>\n",
       "    </tr>\n",
       "    <tr>\n",
       "      <th>091K</th>\n",
       "      <td>24.0</td>\n",
       "      <td>0.0</td>\n",
       "      <td>4.0</td>\n",
       "      <td>1.0</td>\n",
       "      <td>42.0</td>\n",
       "    </tr>\n",
       "    <tr>\n",
       "      <th>103</th>\n",
       "      <td>2.0</td>\n",
       "      <td>0.0</td>\n",
       "      <td>0.0</td>\n",
       "      <td>2.0</td>\n",
       "      <td>0.0</td>\n",
       "    </tr>\n",
       "    <tr>\n",
       "      <th>107</th>\n",
       "      <td>8.0</td>\n",
       "      <td>0.0</td>\n",
       "      <td>0.0</td>\n",
       "      <td>1.0</td>\n",
       "      <td>6.0</td>\n",
       "    </tr>\n",
       "    <tr>\n",
       "      <th>121</th>\n",
       "      <td>1221.0</td>\n",
       "      <td>68.0</td>\n",
       "      <td>777.0</td>\n",
       "      <td>250.0</td>\n",
       "      <td>64254.0</td>\n",
       "    </tr>\n",
       "    <tr>\n",
       "      <th>125</th>\n",
       "      <td>10.0</td>\n",
       "      <td>4.0</td>\n",
       "      <td>0.0</td>\n",
       "      <td>1.0</td>\n",
       "      <td>62.0</td>\n",
       "    </tr>\n",
       "    <tr>\n",
       "      <th>129</th>\n",
       "      <td>147.0</td>\n",
       "      <td>55.0</td>\n",
       "      <td>211.0</td>\n",
       "      <td>76.0</td>\n",
       "      <td>12828.0</td>\n",
       "    </tr>\n",
       "    <tr>\n",
       "      <th>133</th>\n",
       "      <td>110.0</td>\n",
       "      <td>34.0</td>\n",
       "      <td>25.0</td>\n",
       "      <td>31.0</td>\n",
       "      <td>61.0</td>\n",
       "    </tr>\n",
       "    <tr>\n",
       "      <th>135</th>\n",
       "      <td>995.0</td>\n",
       "      <td>395.0</td>\n",
       "      <td>285.0</td>\n",
       "      <td>193.0</td>\n",
       "      <td>2455.0</td>\n",
       "    </tr>\n",
       "    <tr>\n",
       "      <th>137</th>\n",
       "      <td>950.0</td>\n",
       "      <td>120.0</td>\n",
       "      <td>198.0</td>\n",
       "      <td>117.0</td>\n",
       "      <td>590.0</td>\n",
       "    </tr>\n",
       "    <tr>\n",
       "      <th>437</th>\n",
       "      <td>1.0</td>\n",
       "      <td>1.0</td>\n",
       "      <td>0.0</td>\n",
       "      <td>1.0</td>\n",
       "      <td>0.0</td>\n",
       "    </tr>\n",
       "    <tr>\n",
       "      <th>ARMF</th>\n",
       "      <td>6.0</td>\n",
       "      <td>4.0</td>\n",
       "      <td>2.0</td>\n",
       "      <td>0.0</td>\n",
       "      <td>50.0</td>\n",
       "    </tr>\n",
       "    <tr>\n",
       "      <th>Armed Forces</th>\n",
       "      <td>2.0</td>\n",
       "      <td>0.0</td>\n",
       "      <td>0.0</td>\n",
       "      <td>0.0</td>\n",
       "      <td>10.0</td>\n",
       "    </tr>\n",
       "    <tr>\n",
       "      <th>NUSC</th>\n",
       "      <td>654.0</td>\n",
       "      <td>4171.0</td>\n",
       "      <td>788.0</td>\n",
       "      <td>367.0</td>\n",
       "      <td>31933.0</td>\n",
       "    </tr>\n",
       "    <tr>\n",
       "      <th>NUSN</th>\n",
       "      <td>785.0</td>\n",
       "      <td>2197.0</td>\n",
       "      <td>271.0</td>\n",
       "      <td>341.0</td>\n",
       "      <td>1461.0</td>\n",
       "    </tr>\n",
       "    <tr>\n",
       "      <th>Non-U.S., Commercial</th>\n",
       "      <td>34.0</td>\n",
       "      <td>509.0</td>\n",
       "      <td>66.0</td>\n",
       "      <td>48.0</td>\n",
       "      <td>1428.0</td>\n",
       "    </tr>\n",
       "    <tr>\n",
       "      <th>Non-U.S., Non-Commercial</th>\n",
       "      <td>17.0</td>\n",
       "      <td>202.0</td>\n",
       "      <td>28.0</td>\n",
       "      <td>24.0</td>\n",
       "      <td>75.0</td>\n",
       "    </tr>\n",
       "    <tr>\n",
       "      <th>PUBU</th>\n",
       "      <td>299.0</td>\n",
       "      <td>83.0</td>\n",
       "      <td>105.0</td>\n",
       "      <td>57.0</td>\n",
       "      <td>302.0</td>\n",
       "    </tr>\n",
       "    <tr>\n",
       "      <th>Part 121: Air Carrier</th>\n",
       "      <td>272.0</td>\n",
       "      <td>283.0</td>\n",
       "      <td>70.0</td>\n",
       "      <td>267.0</td>\n",
       "      <td>19634.0</td>\n",
       "    </tr>\n",
       "    <tr>\n",
       "      <th>Part 125: 20+ Pax,6000+ lbs</th>\n",
       "      <td>10.0</td>\n",
       "      <td>0.0</td>\n",
       "      <td>0.0</td>\n",
       "      <td>0.0</td>\n",
       "      <td>10.0</td>\n",
       "    </tr>\n",
       "    <tr>\n",
       "      <th>Part 129: Foreign</th>\n",
       "      <td>53.0</td>\n",
       "      <td>867.0</td>\n",
       "      <td>97.0</td>\n",
       "      <td>665.0</td>\n",
       "      <td>4889.0</td>\n",
       "    </tr>\n",
       "    <tr>\n",
       "      <th>Part 133: Rotorcraft Ext. Load</th>\n",
       "      <td>34.0</td>\n",
       "      <td>6.0</td>\n",
       "      <td>11.0</td>\n",
       "      <td>8.0</td>\n",
       "      <td>17.0</td>\n",
       "    </tr>\n",
       "    <tr>\n",
       "      <th>Part 135: Air Taxi &amp; Commuter</th>\n",
       "      <td>441.0</td>\n",
       "      <td>164.0</td>\n",
       "      <td>95.0</td>\n",
       "      <td>115.0</td>\n",
       "      <td>918.0</td>\n",
       "    </tr>\n",
       "    <tr>\n",
       "      <th>Part 137: Agricultural</th>\n",
       "      <td>436.0</td>\n",
       "      <td>28.0</td>\n",
       "      <td>51.0</td>\n",
       "      <td>75.0</td>\n",
       "      <td>307.0</td>\n",
       "    </tr>\n",
       "    <tr>\n",
       "      <th>Part 91 Subpart K: Fractional</th>\n",
       "      <td>2.0</td>\n",
       "      <td>0.0</td>\n",
       "      <td>0.0</td>\n",
       "      <td>3.0</td>\n",
       "      <td>3.0</td>\n",
       "    </tr>\n",
       "    <tr>\n",
       "      <th>Part 91: General Aviation</th>\n",
       "      <td>6902.0</td>\n",
       "      <td>2010.0</td>\n",
       "      <td>907.0</td>\n",
       "      <td>1633.0</td>\n",
       "      <td>8237.0</td>\n",
       "    </tr>\n",
       "    <tr>\n",
       "      <th>Part 91F: Special Flt Ops.</th>\n",
       "      <td>2.0</td>\n",
       "      <td>0.0</td>\n",
       "      <td>0.0</td>\n",
       "      <td>0.0</td>\n",
       "      <td>2.0</td>\n",
       "    </tr>\n",
       "    <tr>\n",
       "      <th>Public Aircraft</th>\n",
       "      <td>1.0</td>\n",
       "      <td>0.0</td>\n",
       "      <td>0.0</td>\n",
       "      <td>1.0</td>\n",
       "      <td>1.0</td>\n",
       "    </tr>\n",
       "    <tr>\n",
       "      <th>Public Use</th>\n",
       "      <td>23.0</td>\n",
       "      <td>4.0</td>\n",
       "      <td>8.0</td>\n",
       "      <td>7.0</td>\n",
       "      <td>26.0</td>\n",
       "    </tr>\n",
       "    <tr>\n",
       "      <th>UNK</th>\n",
       "      <td>222.0</td>\n",
       "      <td>531.0</td>\n",
       "      <td>44.0</td>\n",
       "      <td>89.0</td>\n",
       "      <td>1690.0</td>\n",
       "    </tr>\n",
       "    <tr>\n",
       "      <th>Unknown</th>\n",
       "      <td>24.0</td>\n",
       "      <td>49.0</td>\n",
       "      <td>4.0</td>\n",
       "      <td>1.0</td>\n",
       "      <td>51.0</td>\n",
       "    </tr>\n",
       "  </tbody>\n",
       "</table>\n",
       "</div>"
      ],
      "text/plain": [
       "                                Number of engines  Total fatal injuries  \\\n",
       "FAR description                                                           \n",
       "091                                       18655.0                5450.0   \n",
       "091K                                         24.0                   0.0   \n",
       "103                                           2.0                   0.0   \n",
       "107                                           8.0                   0.0   \n",
       "121                                        1221.0                  68.0   \n",
       "125                                          10.0                   4.0   \n",
       "129                                         147.0                  55.0   \n",
       "133                                         110.0                  34.0   \n",
       "135                                         995.0                 395.0   \n",
       "137                                         950.0                 120.0   \n",
       "437                                           1.0                   1.0   \n",
       "ARMF                                          6.0                   4.0   \n",
       "Armed Forces                                  2.0                   0.0   \n",
       "NUSC                                        654.0                4171.0   \n",
       "NUSN                                        785.0                2197.0   \n",
       "Non-U.S., Commercial                         34.0                 509.0   \n",
       "Non-U.S., Non-Commercial                     17.0                 202.0   \n",
       "PUBU                                        299.0                  83.0   \n",
       "Part 121: Air Carrier                       272.0                 283.0   \n",
       "Part 125: 20+ Pax,6000+ lbs                  10.0                   0.0   \n",
       "Part 129: Foreign                            53.0                 867.0   \n",
       "Part 133: Rotorcraft Ext. Load               34.0                   6.0   \n",
       "Part 135: Air Taxi & Commuter               441.0                 164.0   \n",
       "Part 137: Agricultural                      436.0                  28.0   \n",
       "Part 91 Subpart K: Fractional                 2.0                   0.0   \n",
       "Part 91: General Aviation                  6902.0                2010.0   \n",
       "Part 91F: Special Flt Ops.                    2.0                   0.0   \n",
       "Public Aircraft                               1.0                   0.0   \n",
       "Public Use                                   23.0                   4.0   \n",
       "UNK                                         222.0                 531.0   \n",
       "Unknown                                      24.0                  49.0   \n",
       "\n",
       "                                Total serious injuries  Total minor injuries  \\\n",
       "FAR description                                                                \n",
       "091                                             4741.0                3197.0   \n",
       "091K                                               4.0                   1.0   \n",
       "103                                                0.0                   2.0   \n",
       "107                                                0.0                   1.0   \n",
       "121                                              777.0                 250.0   \n",
       "125                                                0.0                   1.0   \n",
       "129                                              211.0                  76.0   \n",
       "133                                               25.0                  31.0   \n",
       "135                                              285.0                 193.0   \n",
       "137                                              198.0                 117.0   \n",
       "437                                                0.0                   1.0   \n",
       "ARMF                                               2.0                   0.0   \n",
       "Armed Forces                                       0.0                   0.0   \n",
       "NUSC                                             788.0                 367.0   \n",
       "NUSN                                             271.0                 341.0   \n",
       "Non-U.S., Commercial                              66.0                  48.0   \n",
       "Non-U.S., Non-Commercial                          28.0                  24.0   \n",
       "PUBU                                             105.0                  57.0   \n",
       "Part 121: Air Carrier                             70.0                 267.0   \n",
       "Part 125: 20+ Pax,6000+ lbs                        0.0                   0.0   \n",
       "Part 129: Foreign                                 97.0                 665.0   \n",
       "Part 133: Rotorcraft Ext. Load                    11.0                   8.0   \n",
       "Part 135: Air Taxi & Commuter                     95.0                 115.0   \n",
       "Part 137: Agricultural                            51.0                  75.0   \n",
       "Part 91 Subpart K: Fractional                      0.0                   3.0   \n",
       "Part 91: General Aviation                        907.0                1633.0   \n",
       "Part 91F: Special Flt Ops.                         0.0                   0.0   \n",
       "Public Aircraft                                    0.0                   1.0   \n",
       "Public Use                                         8.0                   7.0   \n",
       "UNK                                               44.0                  89.0   \n",
       "Unknown                                            4.0                   1.0   \n",
       "\n",
       "                                Total uninjured  \n",
       "FAR description                                  \n",
       "091                                     19713.0  \n",
       "091K                                       42.0  \n",
       "103                                         0.0  \n",
       "107                                         6.0  \n",
       "121                                     64254.0  \n",
       "125                                        62.0  \n",
       "129                                     12828.0  \n",
       "133                                        61.0  \n",
       "135                                      2455.0  \n",
       "137                                       590.0  \n",
       "437                                         0.0  \n",
       "ARMF                                       50.0  \n",
       "Armed Forces                               10.0  \n",
       "NUSC                                    31933.0  \n",
       "NUSN                                     1461.0  \n",
       "Non-U.S., Commercial                     1428.0  \n",
       "Non-U.S., Non-Commercial                   75.0  \n",
       "PUBU                                      302.0  \n",
       "Part 121: Air Carrier                   19634.0  \n",
       "Part 125: 20+ Pax,6000+ lbs                10.0  \n",
       "Part 129: Foreign                        4889.0  \n",
       "Part 133: Rotorcraft Ext. Load             17.0  \n",
       "Part 135: Air Taxi & Commuter             918.0  \n",
       "Part 137: Agricultural                    307.0  \n",
       "Part 91 Subpart K: Fractional               3.0  \n",
       "Part 91: General Aviation                8237.0  \n",
       "Part 91F: Special Flt Ops.                  2.0  \n",
       "Public Aircraft                             1.0  \n",
       "Public Use                                 26.0  \n",
       "UNK                                      1690.0  \n",
       "Unknown                                    51.0  "
      ]
     },
     "execution_count": 15,
     "metadata": {},
     "output_type": "execute_result"
    }
   ],
   "source": [
    "aviation_df.groupby('FAR description').sum()"
   ]
  },
  {
   "cell_type": "code",
   "execution_count": 16,
   "metadata": {},
   "outputs": [],
   "source": [
    "aviation_df[\"FAR description\"]= aviation_df[\"FAR description\"].replace(\"Part 91: General Aviation\", \"091\")\n",
    "aviation_df[\"FAR description\"]= aviation_df[\"FAR description\"].replace(\"Part 91F: Special Flt Ops.\", \"091\")\n",
    "aviation_df[\"FAR description\"]= aviation_df[\"FAR description\"].replace(\"091K\", \"091\")\n",
    "aviation_df[\"FAR description\"]= aviation_df[\"FAR description\"].replace(\"NUSC\", \"Non-U.S., Commercial\")\n",
    "aviation_df[\"FAR description\"]= aviation_df[\"FAR description\"].replace(\"NUSN\", \"Non-U.S., Non-Commercial\")\n",
    "aviation_df[\"FAR description\"]= aviation_df[\"FAR description\"].replace(\"Part 121: Air Carrier\", \"121\")\n",
    "aviation_df[\"FAR description\"]= aviation_df[\"FAR description\"].replace(\"Part 125: 20+ Pax,6000+ lbs\", \"125\")\n",
    "aviation_df[\"FAR description\"]= aviation_df[\"FAR description\"].replace(\"Part 129: Foreign\", \"129\")\n",
    "aviation_df[\"FAR description\"]= aviation_df[\"FAR description\"].replace(\"Part 133: Rotorcraft Ext. Load\", \"133\")\n",
    "aviation_df[\"FAR description\"]= aviation_df[\"FAR description\"].replace(\"Part 135: Air Taxi & Commuter\", \"135\")\n",
    "aviation_df[\"FAR description\"]= aviation_df[\"FAR description\"].replace(\"Part 137: Agricultural\", \"137\")\n",
    "aviation_df[\"FAR description\"]= aviation_df[\"FAR description\"].replace(\"PUBU\", \"Public Use\")\n",
    "aviation_df[\"FAR description\"]= aviation_df[\"FAR description\"].replace(\"Public Aircraft\", \"Public Use\")\n",
    "aviation_df[\"FAR description\"]= aviation_df[\"FAR description\"].replace(\"UNK\", \"Unknown\")"
   ]
  },
  {
   "cell_type": "markdown",
   "metadata": {},
   "source": [
    "We didn't find any entries with nulls listed for all injury categories, so we decided that null values likely represented zeroes. Since every entry had at least some data for injury counts or uninjured passengers, it seemed likely that missing values were zero."
   ]
  },
  {
   "cell_type": "code",
   "execution_count": 17,
   "metadata": {},
   "outputs": [],
   "source": [
    "# Filling all Total Injury-related columns Null data with 0\n",
    "aviation_df.fillna(value={'Total fatal injuries': 0, 'Total serious injuries': 0, 'Total minor injuries': 0, 'Total uninjured': 0}, inplace=True)"
   ]
  },
  {
   "cell_type": "code",
   "execution_count": 18,
   "metadata": {},
   "outputs": [],
   "source": [
    "#Drop Amateur Built projects because we will not be recommending amateur products to our client. \n",
    "aviation_df.drop(aviation_df[aviation_df['Amateur built'] == 'Yes'].index, inplace = True)"
   ]
  },
  {
   "cell_type": "code",
   "execution_count": 19,
   "metadata": {},
   "outputs": [],
   "source": [
    "#No longer need column since all remaining entries are professionally built\n",
    "aviation_df = aviation_df.drop(['Amateur built'], axis = 1)"
   ]
  },
  {
   "cell_type": "markdown",
   "metadata": {},
   "source": [
    "Our client values safety above all, and we cannot really determine the safety of unique aircraft. It is unlikely that our client would have the opportunity to purchase a rare or limited-production plane anyway, so we dropped all \"Make\" values that were less than 1% of the total dataset. Such planes are too unusual to make a good assessment of their safety. We also dropped entries that did not list \"Make\" because we cannot recommend a plane if we don't know what type it is."
   ]
  },
  {
   "cell_type": "code",
   "execution_count": 20,
   "metadata": {},
   "outputs": [],
   "source": [
    "# Drop the values in 'Make' that constitute less than 1% of the total data in 'Make' column\n",
    "aviation_df = aviation_df[~aviation_df['Make'].isin(aviation_df['Make'].value_counts()[aviation_df['Make'].value_counts() < 84].index)]"
   ]
  },
  {
   "cell_type": "code",
   "execution_count": 21,
   "metadata": {},
   "outputs": [],
   "source": [
    "# Dropping all rows containing null values from Make, as without a Plane make, the other information is invalid\n",
    "df.dropna(subset=['Make'], inplace=True)"
   ]
  },
  {
   "cell_type": "code",
   "execution_count": 22,
   "metadata": {},
   "outputs": [],
   "source": [
    "#Change “Number of engines” nulls to 1, as that is the mode and has a minimal impact on the data distribution\n",
    "aviation_df['Number of engines'].fillna(1, inplace=True)"
   ]
  },
  {
   "cell_type": "code",
   "execution_count": 23,
   "metadata": {},
   "outputs": [
    {
     "ename": "KeyError",
     "evalue": "['Year']",
     "output_type": "error",
     "traceback": [
      "\u001b[0;31m---------------------------------------------------------------------------\u001b[0m",
      "\u001b[0;31mKeyError\u001b[0m                                  Traceback (most recent call last)",
      "\u001b[0;32m<ipython-input-23-a570fa17e6b7>\u001b[0m in \u001b[0;36m<module>\u001b[0;34m\u001b[0m\n\u001b[0;32m----> 1\u001b[0;31m \u001b[0maviation_df\u001b[0m\u001b[0;34m.\u001b[0m\u001b[0mdropna\u001b[0m\u001b[0;34m(\u001b[0m\u001b[0msubset\u001b[0m \u001b[0;34m=\u001b[0m \u001b[0;34m[\u001b[0m\u001b[0;34m'Year'\u001b[0m\u001b[0;34m]\u001b[0m\u001b[0;34m,\u001b[0m \u001b[0minplace\u001b[0m\u001b[0;34m=\u001b[0m\u001b[0;32mTrue\u001b[0m\u001b[0;34m)\u001b[0m\u001b[0;34m\u001b[0m\u001b[0;34m\u001b[0m\u001b[0m\n\u001b[0m",
      "\u001b[0;32m~/anaconda3/envs/learn-env/lib/python3.8/site-packages/pandas/core/frame.py\u001b[0m in \u001b[0;36mdropna\u001b[0;34m(self, axis, how, thresh, subset, inplace)\u001b[0m\n\u001b[1;32m   4998\u001b[0m             \u001b[0mcheck\u001b[0m \u001b[0;34m=\u001b[0m \u001b[0mindices\u001b[0m \u001b[0;34m==\u001b[0m \u001b[0;34m-\u001b[0m\u001b[0;36m1\u001b[0m\u001b[0;34m\u001b[0m\u001b[0;34m\u001b[0m\u001b[0m\n\u001b[1;32m   4999\u001b[0m             \u001b[0;32mif\u001b[0m \u001b[0mcheck\u001b[0m\u001b[0;34m.\u001b[0m\u001b[0many\u001b[0m\u001b[0;34m(\u001b[0m\u001b[0;34m)\u001b[0m\u001b[0;34m:\u001b[0m\u001b[0;34m\u001b[0m\u001b[0;34m\u001b[0m\u001b[0m\n\u001b[0;32m-> 5000\u001b[0;31m                 \u001b[0;32mraise\u001b[0m \u001b[0mKeyError\u001b[0m\u001b[0;34m(\u001b[0m\u001b[0mlist\u001b[0m\u001b[0;34m(\u001b[0m\u001b[0mnp\u001b[0m\u001b[0;34m.\u001b[0m\u001b[0mcompress\u001b[0m\u001b[0;34m(\u001b[0m\u001b[0mcheck\u001b[0m\u001b[0;34m,\u001b[0m \u001b[0msubset\u001b[0m\u001b[0;34m)\u001b[0m\u001b[0;34m)\u001b[0m\u001b[0;34m)\u001b[0m\u001b[0;34m\u001b[0m\u001b[0;34m\u001b[0m\u001b[0m\n\u001b[0m\u001b[1;32m   5001\u001b[0m             \u001b[0magg_obj\u001b[0m \u001b[0;34m=\u001b[0m \u001b[0mself\u001b[0m\u001b[0;34m.\u001b[0m\u001b[0mtake\u001b[0m\u001b[0;34m(\u001b[0m\u001b[0mindices\u001b[0m\u001b[0;34m,\u001b[0m \u001b[0maxis\u001b[0m\u001b[0;34m=\u001b[0m\u001b[0magg_axis\u001b[0m\u001b[0;34m)\u001b[0m\u001b[0;34m\u001b[0m\u001b[0;34m\u001b[0m\u001b[0m\n\u001b[1;32m   5002\u001b[0m \u001b[0;34m\u001b[0m\u001b[0m\n",
      "\u001b[0;31mKeyError\u001b[0m: ['Year']"
     ]
    }
   ],
   "source": [
    "aviation_df.dropna(subset = ['Year'], inplace=True)"
   ]
  },
  {
   "cell_type": "code",
   "execution_count": null,
   "metadata": {},
   "outputs": [],
   "source": [
    "# Filling in remaining null values in aviation_df with Unknown\n",
    "aviation_df.fillna('Unknown', inplace=True)"
   ]
  },
  {
   "cell_type": "markdown",
   "metadata": {},
   "source": [
    "We wanted to determine the chance of injury if a plane was in a crash, so we estimated total passengers per flight by adding all the injured passenger counts to the uninjured count. Each category (\"fatal,\" \"serious,\" \"minor,\" and \"uninjured\") seemed exclusive, so adding them together gives a good indication of the number of passengers on board."
   ]
  },
  {
   "cell_type": "code",
   "execution_count": null,
   "metadata": {},
   "outputs": [],
   "source": [
    "aviation_df['Total passengers'] = aviation_df['Total fatal injuries'] + aviation_df['Total serious injuries'] + aviation_df['Total minor injuries'] + aviation_df['Total uninjured']"
   ]
  },
  {
   "cell_type": "code",
   "execution_count": null,
   "metadata": {},
   "outputs": [],
   "source": [
    "aviation_df = aviation_df[aviation_df['Total passengers'] != 0]"
   ]
  },
  {
   "cell_type": "markdown",
   "metadata": {},
   "source": [
    "With our new metrics for injuries, we looked at percentage chance of injury by number of engines."
   ]
  },
  {
   "cell_type": "code",
   "execution_count": null,
   "metadata": {},
   "outputs": [],
   "source": [
    "grouped_df = aviation_df.groupby(\"Number of engines\").agg({\"Total fatal injuries\": \"sum\", \"Total serious injuries\": \"sum\", \"Total minor injuries\": \"sum\", \"Total uninjured\": \"sum\", \"Total passengers\": \"sum\"})"
   ]
  },
  {
   "cell_type": "code",
   "execution_count": null,
   "metadata": {},
   "outputs": [],
   "source": [
    "grouped_df[\"Percentage chance of fatal injury\"] = (grouped_df[\"Total fatal injuries\"] / grouped_df[\"Total passengers\"]) * 100\n",
    "grouped_df[\"Percentage chance of serious injuries\"] = (grouped_df[\"Total serious injuries\"] / grouped_df[\"Total passengers\"]) * 100\n",
    "grouped_df[\"Percentage chance of minor injuries\"] = (grouped_df[\"Total minor injuries\"] / grouped_df[\"Total passengers\"]) * 100\n",
    "grouped_df[\"Percentage chance of being uninjured\"] = (grouped_df[\"Total uninjured\"] / grouped_df[\"Total passengers\"]) * 100"
   ]
  },
  {
   "cell_type": "code",
   "execution_count": null,
   "metadata": {},
   "outputs": [],
   "source": [
    "grouped_df['Overall chance of injury'] = grouped_df[\"Percentage chance of fatal injury\"] + grouped_df[\"Percentage chance of serious injuries\"] + grouped_df[\"Percentage chance of minor injuries\"] "
   ]
  },
  {
   "cell_type": "code",
   "execution_count": null,
   "metadata": {},
   "outputs": [],
   "source": [
    "grouped_df.head()"
   ]
  },
  {
   "cell_type": "markdown",
   "metadata": {},
   "source": [
    "Yikes! Passengers on one-engine planes have a way higher chance of fatality and any other kind of injury. The same is true of zero-engine aircraft, though it was unlikely we would recommend our client invest in hot air balloons. We opted to exclude zero and one engine aircraft from our data set, because as a category they were far more dangerous."
   ]
  },
  {
   "cell_type": "code",
   "execution_count": null,
   "metadata": {},
   "outputs": [],
   "source": [
    "aviation_df = aviation_df[(aviation_df['Number of engines'] != 0) & (aviation_df['Number of engines'] != 1)]"
   ]
  },
  {
   "cell_type": "markdown",
   "metadata": {},
   "source": [
    "With our curated list of planes, we then tried to figure out which make was the safest."
   ]
  },
  {
   "cell_type": "code",
   "execution_count": null,
   "metadata": {},
   "outputs": [],
   "source": [
    "# Calculate the total number of accidents for each make \n",
    "accidents_count = aviation_df.groupby([\"Make\"]).size().reset_index(name=\"total_accidents\")\n",
    "accidents_count"
   ]
  },
  {
   "cell_type": "code",
   "execution_count": null,
   "metadata": {},
   "outputs": [],
   "source": [
    "#A few of these makes are listed twice. Let's clean that up.\n",
    "aviation_df[\"Make\"]= aviation_df[\"Make\"].replace(\"Airbus industrie\", \"Airbus\")\n",
    "aviation_df[\"Make\"]= aviation_df[\"Make\"].replace(\"Dehavilland\", \"De havilland\")"
   ]
  },
  {
   "cell_type": "code",
   "execution_count": null,
   "metadata": {},
   "outputs": [],
   "source": [
    "# Calculate the total number of injuries for each make \n",
    "injuries_count = aviation_df.groupby([\"Make\"])[[\"Total fatal injuries\", \"Total serious injuries\", \"Total minor injuries\", 'Total uninjured']].sum().reset_index()\n",
    "injuries_count"
   ]
  },
  {
   "cell_type": "code",
   "execution_count": null,
   "metadata": {},
   "outputs": [],
   "source": [
    "# Calculate the percentage of accidents resulting in injuries for each make \n",
    "injury_percentage = pd.merge(injuries_count, accidents_count, on=[\"Make\"])\n",
    "total_people = injuries_count['Total fatal injuries'] + injuries_count['Total serious injuries'] + injuries_count['Total minor injuries'] + injuries_count['Total uninjured']\n",
    "injury_percentage[\"Fatal percentage\"] = (injury_percentage[\"Total fatal injuries\"] / total_people) * 100\n",
    "injury_percentage[\"Serious percentage\"] = (injury_percentage[\"Total serious injuries\"] / total_people) * 100\n",
    "injury_percentage[\"Minor percentage\"] = (injury_percentage[\"Total minor injuries\"] / total_people) * 100\n",
    "injury_percentage[\"Uninjured percentage\"] = (injury_percentage[\"Total uninjured\"] / total_people) * 100\n",
    "injury_percentage"
   ]
  },
  {
   "cell_type": "code",
   "execution_count": null,
   "metadata": {},
   "outputs": [],
   "source": [
    "injury_percentage[\"overall_injury_percentage\"] = (injury_percentage[\"Total fatal injuries\"] + injury_percentage[\"Total serious injuries\"] + injury_percentage[\"Total minor injuries\"]) / total_people * 100"
   ]
  },
  {
   "cell_type": "code",
   "execution_count": null,
   "metadata": {
    "scrolled": true
   },
   "outputs": [],
   "source": [
    "injury_percentage"
   ]
  },
  {
   "cell_type": "markdown",
   "metadata": {},
   "source": [
    "Some planes had an injury rate of zero, but the make had only ever recorded one accident. We excluded models that had not reported many incidents because we did not have sufficient data to determine if they were consistently safe."
   ]
  },
  {
   "cell_type": "code",
   "execution_count": null,
   "metadata": {
    "scrolled": false
   },
   "outputs": [],
   "source": [
    "# Filter the injury_percentage DataFrame to include only aircrafts with a significant number of accidents\n",
    "significant_accidents = injury_percentage[injury_percentage[\"total_accidents\"] >= 100]\n",
    "\n",
    "# Sort the significant_accidents DataFrame by the lowest overall percentage\n",
    "safest_overall_aircrafts = significant_accidents.sort_values(\"overall_injury_percentage\")\n",
    "safest_overall_aircrafts"
   ]
  },
  {
   "cell_type": "markdown",
   "metadata": {},
   "source": [
    "It looks like if you're going to be in a plane crash, you want to do it in a Boeing! They have recorded a high number of injuries, but that's because there are so many Boeings flying each day. Per incident, the injury rate is very low, as is the fatality rate. Mcdonnell Douglas and Airbus also posted very low overall injury percentages."
   ]
  },
  {
   "cell_type": "code",
   "execution_count": null,
   "metadata": {},
   "outputs": [],
   "source": [
    "safest_overall_aircrafts.plot.bar(x='Make', y='overall_injury_percentage')\n",
    "plt.xlabel('Make')\n",
    "plt.ylabel('Overall Injury Percentage')\n",
    "plt.title('Correlation between Make and Overall Injury Percentage')\n",
    "plt.show()"
   ]
  },
  {
   "cell_type": "markdown",
   "metadata": {},
   "source": [
    "We then took our top ten safest makes and looked back at number of engines."
   ]
  },
  {
   "cell_type": "code",
   "execution_count": null,
   "metadata": {},
   "outputs": [],
   "source": [
    "aviation_df = aviation_df[(aviation_df['Make'] == 'Boeing') | (aviation_df['Make'] == 'Mcdonnell douglas') \n",
    "                          | (aviation_df['Make'] == 'Airbus') | (aviation_df['Make'] == 'Aerospatiale') | \n",
    "                          (aviation_df['Make'] == 'Embraer') | (aviation_df['Make'] == 'Douglas') |\n",
    "                          (aviation_df['Make'] == 'Swearingen') | (aviation_df['Make'] == 'De havilland') |\n",
    "                          (aviation_df['Make'] == 'Learjet') | (aviation_df['Make'] == 'Beech')]\n",
    "                          "
   ]
  },
  {
   "cell_type": "code",
   "execution_count": null,
   "metadata": {},
   "outputs": [],
   "source": [
    "top_10_df = aviation_df.groupby([\"Number of engines\", \"Make\"]).agg({\"Total fatal injuries\": \"sum\", \"Total serious injuries\": \"sum\", \"Total minor injuries\": \"sum\", \"Total uninjured\": \"sum\", \"Total passengers\": \"sum\"})"
   ]
  },
  {
   "cell_type": "code",
   "execution_count": null,
   "metadata": {},
   "outputs": [],
   "source": [
    "top_10_df[\"Percentage chance of fatal injury\"] = (top_10_df[\"Total fatal injuries\"] / top_10_df[\"Total passengers\"]) * 100\n",
    "top_10_df[\"Percentage chance of serious injuries\"] = (top_10_df[\"Total serious injuries\"] / top_10_df[\"Total passengers\"]) * 100\n",
    "top_10_df[\"Percentage chance of minor injuries\"] = (top_10_df[\"Total minor injuries\"] / top_10_df[\"Total passengers\"]) * 100\n",
    "top_10_df[\"Percentage chance of being uninjured\"] = (top_10_df[\"Total uninjured\"] / top_10_df[\"Total passengers\"]) * 100"
   ]
  },
  {
   "cell_type": "code",
   "execution_count": null,
   "metadata": {},
   "outputs": [],
   "source": [
    "top_10_df['Overall chance of injury'] = top_10_df[\"Percentage chance of fatal injury\"] + top_10_df[\"Percentage chance of serious injuries\"] + top_10_df[\"Percentage chance of minor injuries\"]"
   ]
  },
  {
   "cell_type": "code",
   "execution_count": null,
   "metadata": {},
   "outputs": [],
   "source": [
    "top_10_df.head(30)"
   ]
  },
  {
   "cell_type": "code",
   "execution_count": null,
   "metadata": {},
   "outputs": [],
   "source": [
    "top_10_df = top_10_df.sort_values(by='Overall chance of injury')"
   ]
  },
  {
   "cell_type": "code",
   "execution_count": null,
   "metadata": {},
   "outputs": [],
   "source": [
    "top_10_df.head(30)"
   ]
  },
  {
   "cell_type": "code",
   "execution_count": null,
   "metadata": {},
   "outputs": [],
   "source": [
    "top_10_df.reset_index()"
   ]
  },
  {
   "cell_type": "markdown",
   "metadata": {},
   "source": [
    "Our top five safest aircraft are the four-engine Airbus, four-engine De Havilland, two-engine Boeing, two-engine McDonnell Douglas, and the three-engine Boeing. The four-engine Boeings were just outside the top five. We opted to recommend the Boeings and the two-engine McDonnell Douglas because the AirBus and De Havilland had substantially lower incident counts. We wanted to recommend a plane that was repeatedly proven to protect its passengers in the event of an accident.\n",
    "\n",
    "After determining our pick for safest aircraft, we went back to our regional data to determine how many injuries were associated with a crash in each of our regions."
   ]
  },
  {
   "cell_type": "code",
   "execution_count": null,
   "metadata": {},
   "outputs": [],
   "source": [
    "aviation_df['Total injuries']=aviation_df['Total fatal injuries']+aviation_df['Total serious injuries']+aviation_df['Total minor injuries']"
   ]
  },
  {
   "cell_type": "code",
   "execution_count": null,
   "metadata": {},
   "outputs": [],
   "source": [
    "region_counts = aviation_df['Region'].value_counts()\n",
    "region_counts.sort_index(inplace=True)\n",
    "region_counts"
   ]
  },
  {
   "cell_type": "code",
   "execution_count": null,
   "metadata": {},
   "outputs": [],
   "source": [
    "region_injuries = aviation_df.groupby(['Region'])['Total injuries'].sum()\n",
    "region_injuries.sort_index(inplace=True)"
   ]
  },
  {
   "cell_type": "code",
   "execution_count": null,
   "metadata": {},
   "outputs": [],
   "source": [
    "region_injury_rate = region_injuries/region_counts\n",
    "region_injury_rate.sort_index(inplace=True)\n",
    "region_injury_rate"
   ]
  },
  {
   "cell_type": "markdown",
   "metadata": {},
   "source": [
    "We determined that a crash in the Northeast had a higher chance of injury. (The \"Unknown\" category includes incidents outside the U.S. as well as any incident that did not list a location.)"
   ]
  },
  {
   "cell_type": "markdown",
   "metadata": {},
   "source": [
    "An early exploration of the FAR description data showed that planes flying under Part 91 by far had the most injuries. But Part 91 is also very likely to be one-engine planes, since it is for general aviation, or non-commercial flying. We looked into the data without single-engine planes to see how many accidents were associated with crashes under each FAR protocol."
   ]
  },
  {
   "cell_type": "code",
   "execution_count": null,
   "metadata": {},
   "outputs": [],
   "source": [
    "far_counts = aviation_df['FAR description'].value_counts()\n",
    "far_counts.sort_index(inplace=True)\n",
    "far_counts"
   ]
  },
  {
   "cell_type": "code",
   "execution_count": null,
   "metadata": {},
   "outputs": [],
   "source": [
    "far_injuries = aviation_df.groupby(['FAR description'])['Total injuries'].sum()\n",
    "far_injuries.sort_index(inplace=True)\n",
    "far_injuries"
   ]
  },
  {
   "cell_type": "code",
   "execution_count": null,
   "metadata": {},
   "outputs": [],
   "source": [
    "far_injury_rate = far_injuries/far_counts\n",
    "far_injury_rate.sort_index(inplace=True)\n",
    "far_injury_rate"
   ]
  },
  {
   "cell_type": "markdown",
   "metadata": {},
   "source": [
    "The highest injury rates were for Part 129 and for Non-U.S., Commercial, both of which apply to foreign flights. Some of the categories. like military and public use, are not relevant to our client. Of commercial and domestic options, Part 135 had the highest record of safety."
   ]
  },
  {
   "cell_type": "code",
   "execution_count": null,
   "metadata": {},
   "outputs": [],
   "source": [
    "top_10_df.to_csv('data/top_aircraft.csv')"
   ]
  },
  {
   "cell_type": "code",
   "execution_count": null,
   "metadata": {},
   "outputs": [],
   "source": [
    "aviation_df.to_csv('data/cleaned_aviation.csv')"
   ]
  },
  {
   "cell_type": "code",
   "execution_count": null,
   "metadata": {},
   "outputs": [],
   "source": [
    "grouped_df.to_csv('data/injuries_from_num_engine.csv')"
   ]
  },
  {
   "cell_type": "code",
   "execution_count": null,
   "metadata": {},
   "outputs": [],
   "source": [
    "safest_overall_aircrafts.to_csv('data/injuries_from_make.csv')"
   ]
  },
  {
   "cell_type": "code",
   "execution_count": null,
   "metadata": {},
   "outputs": [],
   "source": [
    "region_injury_rate.to_csv('data/region_injury_rate.csv')"
   ]
  },
  {
   "cell_type": "code",
   "execution_count": null,
   "metadata": {},
   "outputs": [],
   "source": [
    "far_injury_rate.to_csv('data/far_injury_rate.csv')"
   ]
  },
  {
   "cell_type": "markdown",
   "metadata": {},
   "source": [
    "### Recommendations\n",
    "\n",
    "We offer our client the following recommendations:\n",
    "\n",
    "*Invest in Boeing airplanes with two, three, or four engines. A two-engine McDonnell Douglas is also proven safe.\n",
    "\n",
    "*Focus operations in the United States outside of the Northeast.\n",
    "\n",
    "*Fly unscheduled, on-demand flights under Federal Aviation Regulation Part 135."
   ]
  },
  {
   "cell_type": "markdown",
   "metadata": {},
   "source": [
    "### Next Steps\n",
    "\n",
    "Next steps for data analysis could include further investigation of the safest models of Boeing aircraft. We could also look more deeply into what might lead to accidents in the Northeast having more severe outcomes. We could use the weather data included in this dataset or seek other data to help us dig into that question.\n",
    "\n",
    "Next steps for our client would involve researching price and availability of our recommended aircraft. They also might consider opportunities to align this new venture with their commercial interests and their social responsibility values. Many Part 135 operations serve isolated or underserved areas. This offers the company a chance to find untapped markets and possibly to also demonstrate their business' commitment to giving back.\n"
   ]
  }
 ],
 "metadata": {
  "kernelspec": {
   "display_name": "Python 3",
   "language": "python",
   "name": "python3"
  },
  "language_info": {
   "codemirror_mode": {
    "name": "ipython",
    "version": 3
   },
   "file_extension": ".py",
   "mimetype": "text/x-python",
   "name": "python",
   "nbconvert_exporter": "python",
   "pygments_lexer": "ipython3",
   "version": "3.8.5"
  }
 },
 "nbformat": 4,
 "nbformat_minor": 2
}
