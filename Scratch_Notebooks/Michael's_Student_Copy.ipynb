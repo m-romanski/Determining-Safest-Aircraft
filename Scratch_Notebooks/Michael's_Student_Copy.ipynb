{
 "cells": [
  {
   "cell_type": "markdown",
   "metadata": {},
   "source": [
    "## Final Project Submission\n",
    "\n",
    "Please fill out:\n",
    "* Student name: \n",
    "* Student pace: self paced / part time / full time\n",
    "* Scheduled project review date/time: \n",
    "* Instructor name: \n",
    "* Blog post URL:\n"
   ]
  },
  {
   "cell_type": "code",
   "execution_count": 1,
   "metadata": {},
   "outputs": [],
   "source": [
    "# Your code here - remember to use markdown cells for comments as well!\n"
   ]
  },
  {
   "cell_type": "code",
   "execution_count": 2,
   "metadata": {},
   "outputs": [],
   "source": [
    "#Import Packages\n",
    "import pandas as pd\n",
    "import matplotlib.pyplot as plt\n",
    "import seaborn as sns\n",
    "import numpy as np\n",
    "\n"
   ]
  },
  {
   "cell_type": "code",
   "execution_count": 3,
   "metadata": {},
   "outputs": [],
   "source": [
    "%matplotlib inline"
   ]
  },
  {
   "cell_type": "code",
   "execution_count": 4,
   "metadata": {},
   "outputs": [
    {
     "name": "stderr",
     "output_type": "stream",
     "text": [
      "/Users/michaelromanski/anaconda3/envs/learn-env/lib/python3.8/site-packages/IPython/core/interactiveshell.py:3145: DtypeWarning: Columns (6,7,28) have mixed types.Specify dtype option on import or set low_memory=False.\n",
      "  has_raised = await self.run_ast_nodes(code_ast.body, cell_name,\n"
     ]
    }
   ],
   "source": [
    "# Loading in Avaition_data.csv\n",
    "df = pd.read_csv('data/Aviation_Data.csv')"
   ]
  },
  {
   "cell_type": "code",
   "execution_count": 5,
   "metadata": {},
   "outputs": [],
   "source": [
    "# Creating a new DataFrame to keep original intact\n",
    "aviation_df = df.copy()"
   ]
  },
  {
   "cell_type": "code",
   "execution_count": 6,
   "metadata": {},
   "outputs": [
    {
     "data": {
      "text/html": [
       "<div>\n",
       "<style scoped>\n",
       "    .dataframe tbody tr th:only-of-type {\n",
       "        vertical-align: middle;\n",
       "    }\n",
       "\n",
       "    .dataframe tbody tr th {\n",
       "        vertical-align: top;\n",
       "    }\n",
       "\n",
       "    .dataframe thead th {\n",
       "        text-align: right;\n",
       "    }\n",
       "</style>\n",
       "<table border=\"1\" class=\"dataframe\">\n",
       "  <thead>\n",
       "    <tr style=\"text-align: right;\">\n",
       "      <th></th>\n",
       "      <th>Event.Date</th>\n",
       "      <th>Location</th>\n",
       "      <th>Country</th>\n",
       "      <th>Injury.Severity</th>\n",
       "      <th>Aircraft.damage</th>\n",
       "      <th>Make</th>\n",
       "      <th>Model</th>\n",
       "      <th>Amateur.Built</th>\n",
       "      <th>Number.of.Engines</th>\n",
       "      <th>Engine.Type</th>\n",
       "      <th>FAR.Description</th>\n",
       "      <th>Purpose.of.flight</th>\n",
       "      <th>Total.Fatal.Injuries</th>\n",
       "      <th>Total.Serious.Injuries</th>\n",
       "      <th>Total.Minor.Injuries</th>\n",
       "      <th>Total.Uninjured</th>\n",
       "      <th>Weather.Condition</th>\n",
       "      <th>Report.Status</th>\n",
       "    </tr>\n",
       "  </thead>\n",
       "  <tbody>\n",
       "    <tr>\n",
       "      <th>0</th>\n",
       "      <td>1948-10-24</td>\n",
       "      <td>MOOSE CREEK, ID</td>\n",
       "      <td>United States</td>\n",
       "      <td>Fatal(2)</td>\n",
       "      <td>Destroyed</td>\n",
       "      <td>Stinson</td>\n",
       "      <td>108-3</td>\n",
       "      <td>No</td>\n",
       "      <td>1.0</td>\n",
       "      <td>Reciprocating</td>\n",
       "      <td>NaN</td>\n",
       "      <td>Personal</td>\n",
       "      <td>2.0</td>\n",
       "      <td>0.0</td>\n",
       "      <td>0.0</td>\n",
       "      <td>0.0</td>\n",
       "      <td>UNK</td>\n",
       "      <td>Probable Cause</td>\n",
       "    </tr>\n",
       "    <tr>\n",
       "      <th>1</th>\n",
       "      <td>1962-07-19</td>\n",
       "      <td>BRIDGEPORT, CA</td>\n",
       "      <td>United States</td>\n",
       "      <td>Fatal(4)</td>\n",
       "      <td>Destroyed</td>\n",
       "      <td>Piper</td>\n",
       "      <td>PA24-180</td>\n",
       "      <td>No</td>\n",
       "      <td>1.0</td>\n",
       "      <td>Reciprocating</td>\n",
       "      <td>NaN</td>\n",
       "      <td>Personal</td>\n",
       "      <td>4.0</td>\n",
       "      <td>0.0</td>\n",
       "      <td>0.0</td>\n",
       "      <td>0.0</td>\n",
       "      <td>UNK</td>\n",
       "      <td>Probable Cause</td>\n",
       "    </tr>\n",
       "    <tr>\n",
       "      <th>2</th>\n",
       "      <td>1974-08-30</td>\n",
       "      <td>Saltville, VA</td>\n",
       "      <td>United States</td>\n",
       "      <td>Fatal(3)</td>\n",
       "      <td>Destroyed</td>\n",
       "      <td>Cessna</td>\n",
       "      <td>172M</td>\n",
       "      <td>No</td>\n",
       "      <td>1.0</td>\n",
       "      <td>Reciprocating</td>\n",
       "      <td>NaN</td>\n",
       "      <td>Personal</td>\n",
       "      <td>3.0</td>\n",
       "      <td>NaN</td>\n",
       "      <td>NaN</td>\n",
       "      <td>NaN</td>\n",
       "      <td>IMC</td>\n",
       "      <td>Probable Cause</td>\n",
       "    </tr>\n",
       "    <tr>\n",
       "      <th>3</th>\n",
       "      <td>1977-06-19</td>\n",
       "      <td>EUREKA, CA</td>\n",
       "      <td>United States</td>\n",
       "      <td>Fatal(2)</td>\n",
       "      <td>Destroyed</td>\n",
       "      <td>Rockwell</td>\n",
       "      <td>112</td>\n",
       "      <td>No</td>\n",
       "      <td>1.0</td>\n",
       "      <td>Reciprocating</td>\n",
       "      <td>NaN</td>\n",
       "      <td>Personal</td>\n",
       "      <td>2.0</td>\n",
       "      <td>0.0</td>\n",
       "      <td>0.0</td>\n",
       "      <td>0.0</td>\n",
       "      <td>IMC</td>\n",
       "      <td>Probable Cause</td>\n",
       "    </tr>\n",
       "    <tr>\n",
       "      <th>4</th>\n",
       "      <td>1979-08-02</td>\n",
       "      <td>Canton, OH</td>\n",
       "      <td>United States</td>\n",
       "      <td>Fatal(1)</td>\n",
       "      <td>Destroyed</td>\n",
       "      <td>Cessna</td>\n",
       "      <td>501</td>\n",
       "      <td>No</td>\n",
       "      <td>NaN</td>\n",
       "      <td>NaN</td>\n",
       "      <td>NaN</td>\n",
       "      <td>Personal</td>\n",
       "      <td>1.0</td>\n",
       "      <td>2.0</td>\n",
       "      <td>NaN</td>\n",
       "      <td>0.0</td>\n",
       "      <td>VMC</td>\n",
       "      <td>Probable Cause</td>\n",
       "    </tr>\n",
       "    <tr>\n",
       "      <th>...</th>\n",
       "      <td>...</td>\n",
       "      <td>...</td>\n",
       "      <td>...</td>\n",
       "      <td>...</td>\n",
       "      <td>...</td>\n",
       "      <td>...</td>\n",
       "      <td>...</td>\n",
       "      <td>...</td>\n",
       "      <td>...</td>\n",
       "      <td>...</td>\n",
       "      <td>...</td>\n",
       "      <td>...</td>\n",
       "      <td>...</td>\n",
       "      <td>...</td>\n",
       "      <td>...</td>\n",
       "      <td>...</td>\n",
       "      <td>...</td>\n",
       "      <td>...</td>\n",
       "    </tr>\n",
       "    <tr>\n",
       "      <th>90343</th>\n",
       "      <td>2022-12-26</td>\n",
       "      <td>Annapolis, MD</td>\n",
       "      <td>United States</td>\n",
       "      <td>Minor</td>\n",
       "      <td>NaN</td>\n",
       "      <td>PIPER</td>\n",
       "      <td>PA-28-151</td>\n",
       "      <td>No</td>\n",
       "      <td>NaN</td>\n",
       "      <td>NaN</td>\n",
       "      <td>091</td>\n",
       "      <td>Personal</td>\n",
       "      <td>0.0</td>\n",
       "      <td>1.0</td>\n",
       "      <td>0.0</td>\n",
       "      <td>0.0</td>\n",
       "      <td>NaN</td>\n",
       "      <td>NaN</td>\n",
       "    </tr>\n",
       "    <tr>\n",
       "      <th>90344</th>\n",
       "      <td>2022-12-26</td>\n",
       "      <td>Hampton, NH</td>\n",
       "      <td>United States</td>\n",
       "      <td>NaN</td>\n",
       "      <td>NaN</td>\n",
       "      <td>BELLANCA</td>\n",
       "      <td>7ECA</td>\n",
       "      <td>No</td>\n",
       "      <td>NaN</td>\n",
       "      <td>NaN</td>\n",
       "      <td>NaN</td>\n",
       "      <td>NaN</td>\n",
       "      <td>0.0</td>\n",
       "      <td>0.0</td>\n",
       "      <td>0.0</td>\n",
       "      <td>0.0</td>\n",
       "      <td>NaN</td>\n",
       "      <td>NaN</td>\n",
       "    </tr>\n",
       "    <tr>\n",
       "      <th>90345</th>\n",
       "      <td>2022-12-26</td>\n",
       "      <td>Payson, AZ</td>\n",
       "      <td>United States</td>\n",
       "      <td>Non-Fatal</td>\n",
       "      <td>Substantial</td>\n",
       "      <td>AMERICAN CHAMPION AIRCRAFT</td>\n",
       "      <td>8GCBC</td>\n",
       "      <td>No</td>\n",
       "      <td>1.0</td>\n",
       "      <td>NaN</td>\n",
       "      <td>091</td>\n",
       "      <td>Personal</td>\n",
       "      <td>0.0</td>\n",
       "      <td>0.0</td>\n",
       "      <td>0.0</td>\n",
       "      <td>1.0</td>\n",
       "      <td>VMC</td>\n",
       "      <td>NaN</td>\n",
       "    </tr>\n",
       "    <tr>\n",
       "      <th>90346</th>\n",
       "      <td>2022-12-26</td>\n",
       "      <td>Morgan, UT</td>\n",
       "      <td>United States</td>\n",
       "      <td>NaN</td>\n",
       "      <td>NaN</td>\n",
       "      <td>CESSNA</td>\n",
       "      <td>210N</td>\n",
       "      <td>No</td>\n",
       "      <td>NaN</td>\n",
       "      <td>NaN</td>\n",
       "      <td>091</td>\n",
       "      <td>Personal</td>\n",
       "      <td>0.0</td>\n",
       "      <td>0.0</td>\n",
       "      <td>0.0</td>\n",
       "      <td>0.0</td>\n",
       "      <td>NaN</td>\n",
       "      <td>NaN</td>\n",
       "    </tr>\n",
       "    <tr>\n",
       "      <th>90347</th>\n",
       "      <td>2022-12-29</td>\n",
       "      <td>Athens, GA</td>\n",
       "      <td>United States</td>\n",
       "      <td>Minor</td>\n",
       "      <td>NaN</td>\n",
       "      <td>PIPER</td>\n",
       "      <td>PA-24-260</td>\n",
       "      <td>No</td>\n",
       "      <td>NaN</td>\n",
       "      <td>NaN</td>\n",
       "      <td>091</td>\n",
       "      <td>Personal</td>\n",
       "      <td>0.0</td>\n",
       "      <td>1.0</td>\n",
       "      <td>0.0</td>\n",
       "      <td>1.0</td>\n",
       "      <td>NaN</td>\n",
       "      <td>NaN</td>\n",
       "    </tr>\n",
       "  </tbody>\n",
       "</table>\n",
       "<p>90348 rows × 18 columns</p>\n",
       "</div>"
      ],
      "text/plain": [
       "       Event.Date         Location        Country Injury.Severity  \\\n",
       "0      1948-10-24  MOOSE CREEK, ID  United States        Fatal(2)   \n",
       "1      1962-07-19   BRIDGEPORT, CA  United States        Fatal(4)   \n",
       "2      1974-08-30    Saltville, VA  United States        Fatal(3)   \n",
       "3      1977-06-19       EUREKA, CA  United States        Fatal(2)   \n",
       "4      1979-08-02       Canton, OH  United States        Fatal(1)   \n",
       "...           ...              ...            ...             ...   \n",
       "90343  2022-12-26    Annapolis, MD  United States           Minor   \n",
       "90344  2022-12-26      Hampton, NH  United States             NaN   \n",
       "90345  2022-12-26       Payson, AZ  United States       Non-Fatal   \n",
       "90346  2022-12-26       Morgan, UT  United States             NaN   \n",
       "90347  2022-12-29       Athens, GA  United States           Minor   \n",
       "\n",
       "      Aircraft.damage                        Make      Model Amateur.Built  \\\n",
       "0           Destroyed                     Stinson      108-3            No   \n",
       "1           Destroyed                       Piper   PA24-180            No   \n",
       "2           Destroyed                      Cessna       172M            No   \n",
       "3           Destroyed                    Rockwell        112            No   \n",
       "4           Destroyed                      Cessna        501            No   \n",
       "...               ...                         ...        ...           ...   \n",
       "90343             NaN                       PIPER  PA-28-151            No   \n",
       "90344             NaN                    BELLANCA       7ECA            No   \n",
       "90345     Substantial  AMERICAN CHAMPION AIRCRAFT      8GCBC            No   \n",
       "90346             NaN                      CESSNA       210N            No   \n",
       "90347             NaN                       PIPER  PA-24-260            No   \n",
       "\n",
       "       Number.of.Engines    Engine.Type FAR.Description Purpose.of.flight  \\\n",
       "0                    1.0  Reciprocating             NaN          Personal   \n",
       "1                    1.0  Reciprocating             NaN          Personal   \n",
       "2                    1.0  Reciprocating             NaN          Personal   \n",
       "3                    1.0  Reciprocating             NaN          Personal   \n",
       "4                    NaN            NaN             NaN          Personal   \n",
       "...                  ...            ...             ...               ...   \n",
       "90343                NaN            NaN             091          Personal   \n",
       "90344                NaN            NaN             NaN               NaN   \n",
       "90345                1.0            NaN             091          Personal   \n",
       "90346                NaN            NaN             091          Personal   \n",
       "90347                NaN            NaN             091          Personal   \n",
       "\n",
       "       Total.Fatal.Injuries  Total.Serious.Injuries  Total.Minor.Injuries  \\\n",
       "0                       2.0                     0.0                   0.0   \n",
       "1                       4.0                     0.0                   0.0   \n",
       "2                       3.0                     NaN                   NaN   \n",
       "3                       2.0                     0.0                   0.0   \n",
       "4                       1.0                     2.0                   NaN   \n",
       "...                     ...                     ...                   ...   \n",
       "90343                   0.0                     1.0                   0.0   \n",
       "90344                   0.0                     0.0                   0.0   \n",
       "90345                   0.0                     0.0                   0.0   \n",
       "90346                   0.0                     0.0                   0.0   \n",
       "90347                   0.0                     1.0                   0.0   \n",
       "\n",
       "       Total.Uninjured Weather.Condition   Report.Status  \n",
       "0                  0.0               UNK  Probable Cause  \n",
       "1                  0.0               UNK  Probable Cause  \n",
       "2                  NaN               IMC  Probable Cause  \n",
       "3                  0.0               IMC  Probable Cause  \n",
       "4                  0.0               VMC  Probable Cause  \n",
       "...                ...               ...             ...  \n",
       "90343              0.0               NaN             NaN  \n",
       "90344              0.0               NaN             NaN  \n",
       "90345              1.0               VMC             NaN  \n",
       "90346              0.0               NaN             NaN  \n",
       "90347              1.0               NaN             NaN  \n",
       "\n",
       "[90348 rows x 18 columns]"
      ]
     },
     "execution_count": 6,
     "metadata": {},
     "output_type": "execute_result"
    }
   ],
   "source": [
    "# Selecting relevant columns for analysis\n",
    "aviation_df = aviation_df.drop(['Latitude', 'Longitude', 'Airport.Code', 'Airport.Name', 'Aircraft.Category', 'Publication.Date', 'Air.carrier', 'Broad.phase.of.flight', 'Event.Id', 'Accident.Number', 'Investigation.Type', 'Registration.Number', 'Schedule'], axis=1)\n",
    "aviation_df                               "
   ]
  },
  {
   "cell_type": "code",
   "execution_count": 7,
   "metadata": {},
   "outputs": [],
   "source": [
    "# Replacing dot to space in column names\n",
    "aviation_df = aviation_df.rename(columns=lambda x: x.replace('.', ' '))"
   ]
  },
  {
   "cell_type": "code",
   "execution_count": 8,
   "metadata": {},
   "outputs": [],
   "source": [
    "# Capitalizing all values in Make\n",
    "aviation_df['Make'] = aviation_df['Make'].str.capitalize()"
   ]
  },
  {
   "cell_type": "code",
   "execution_count": 9,
   "metadata": {},
   "outputs": [],
   "source": [
    "# Capitalizing all columns\n",
    "aviation_df = aviation_df.rename(columns=str.capitalize)"
   ]
  },
  {
   "cell_type": "code",
   "execution_count": 10,
   "metadata": {},
   "outputs": [],
   "source": [
    "# Changing Event.Date to datetime and creating a year column\n",
    "aviation_df['Event date'] = pd.to_datetime(aviation_df['Event date'])\n",
    "aviation_df['Year'] = aviation_df['Event date'].dt.year\n",
    "aviation_df['Year'] = aviation_df['Year'].astype('Int64')"
   ]
  },
  {
   "cell_type": "code",
   "execution_count": 11,
   "metadata": {},
   "outputs": [],
   "source": [
    "# Filling all Total Injury-related columns Null data with 0 (the median)\n",
    "aviation_df.fillna(value={'Total fatal injuries': 0, 'Total serious injuries': 0, 'Total minor injuries': 0, 'Total uninjured': 0}, inplace=True)"
   ]
  },
  {
   "cell_type": "code",
   "execution_count": 12,
   "metadata": {},
   "outputs": [],
   "source": [
    "#Drop Amateur Built projects because we will not be recommending amateur products to our client. \n",
    "aviation_df.drop(aviation_df[aviation_df['Amateur built'] == 'Yes'].index, inplace = True)"
   ]
  },
  {
   "cell_type": "code",
   "execution_count": 13,
   "metadata": {},
   "outputs": [],
   "source": [
    "#No longer need column since all remaining entries are professionally built\n",
    "aviation_df = aviation_df.drop(['Amateur built'], axis = 1)"
   ]
  },
  {
   "cell_type": "code",
   "execution_count": 14,
   "metadata": {},
   "outputs": [],
   "source": [
    "# Drop the values in 'Make' that constitute less than 1% of the total data in 'Make' column\n",
    "aviation_df = aviation_df[~aviation_df['Make'].isin(aviation_df['Make'].value_counts()[aviation_df['Make'].value_counts() < 84].index)]"
   ]
  },
  {
   "cell_type": "code",
   "execution_count": 15,
   "metadata": {},
   "outputs": [],
   "source": [
    "# Dropping all rows containing null values from Make, as without a Plane make, the other information is invalid\n",
    "df.dropna(subset=['Make'], inplace=True)"
   ]
  },
  {
   "cell_type": "code",
   "execution_count": 16,
   "metadata": {},
   "outputs": [],
   "source": [
    "#Change “Number of engines” nulls to 1, as that is the mode and has a minimal impact on the data distribution\n",
    "aviation_df['Number of engines'].fillna(1, inplace=True)"
   ]
  },
  {
   "cell_type": "code",
   "execution_count": 17,
   "metadata": {},
   "outputs": [],
   "source": [
    "aviation_df.dropna(subset = ['Year'], inplace=True)"
   ]
  },
  {
   "cell_type": "code",
   "execution_count": 18,
   "metadata": {},
   "outputs": [],
   "source": [
    "# Filling in remaining null values in aviation_df with Unknown\n",
    "aviation_df.fillna('Unknown', inplace=True)"
   ]
  },
  {
   "cell_type": "code",
   "execution_count": 19,
   "metadata": {},
   "outputs": [],
   "source": [
    "# WE WILL WORK ON THIS TOMORROW!\n",
    "#df['Location'] = df['Location'].str[-2:]"
   ]
  },
  {
   "cell_type": "code",
   "execution_count": 20,
   "metadata": {},
   "outputs": [
    {
     "name": "stdout",
     "output_type": "stream",
     "text": [
      "<class 'pandas.core.frame.DataFrame'>\n",
      "Int64Index: 72290 entries, 0 to 90347\n",
      "Data columns (total 18 columns):\n",
      " #   Column                  Non-Null Count  Dtype         \n",
      "---  ------                  --------------  -----         \n",
      " 0   Event date              72290 non-null  datetime64[ns]\n",
      " 1   Location                72290 non-null  object        \n",
      " 2   Country                 72290 non-null  object        \n",
      " 3   Injury severity         72290 non-null  object        \n",
      " 4   Aircraft damage         72290 non-null  object        \n",
      " 5   Make                    72290 non-null  object        \n",
      " 6   Model                   72290 non-null  object        \n",
      " 7   Number of engines       72290 non-null  float64       \n",
      " 8   Engine type             72290 non-null  object        \n",
      " 9   Far description         72290 non-null  object        \n",
      " 10  Purpose of flight       72290 non-null  object        \n",
      " 11  Total fatal injuries    72290 non-null  float64       \n",
      " 12  Total serious injuries  72290 non-null  float64       \n",
      " 13  Total minor injuries    72290 non-null  float64       \n",
      " 14  Total uninjured         72290 non-null  float64       \n",
      " 15  Weather condition       72290 non-null  object        \n",
      " 16  Report status           72290 non-null  object        \n",
      " 17  Year                    72290 non-null  Int64         \n",
      "dtypes: Int64(1), datetime64[ns](1), float64(5), object(11)\n",
      "memory usage: 10.5+ MB\n"
     ]
    }
   ],
   "source": [
    "aviation_df.info()"
   ]
  },
  {
   "cell_type": "code",
   "execution_count": 21,
   "metadata": {},
   "outputs": [
    {
     "data": {
      "text/html": [
       "<div>\n",
       "<style scoped>\n",
       "    .dataframe tbody tr th:only-of-type {\n",
       "        vertical-align: middle;\n",
       "    }\n",
       "\n",
       "    .dataframe tbody tr th {\n",
       "        vertical-align: top;\n",
       "    }\n",
       "\n",
       "    .dataframe thead th {\n",
       "        text-align: right;\n",
       "    }\n",
       "</style>\n",
       "<table border=\"1\" class=\"dataframe\">\n",
       "  <thead>\n",
       "    <tr style=\"text-align: right;\">\n",
       "      <th></th>\n",
       "      <th>Event date</th>\n",
       "      <th>Location</th>\n",
       "      <th>Country</th>\n",
       "      <th>Injury severity</th>\n",
       "      <th>Aircraft damage</th>\n",
       "      <th>Make</th>\n",
       "      <th>Model</th>\n",
       "      <th>Number of engines</th>\n",
       "      <th>Engine type</th>\n",
       "      <th>Far description</th>\n",
       "      <th>Purpose of flight</th>\n",
       "      <th>Total fatal injuries</th>\n",
       "      <th>Total serious injuries</th>\n",
       "      <th>Total minor injuries</th>\n",
       "      <th>Total uninjured</th>\n",
       "      <th>Weather condition</th>\n",
       "      <th>Report status</th>\n",
       "      <th>Year</th>\n",
       "    </tr>\n",
       "  </thead>\n",
       "  <tbody>\n",
       "    <tr>\n",
       "      <th>0</th>\n",
       "      <td>1948-10-24</td>\n",
       "      <td>MOOSE CREEK, ID</td>\n",
       "      <td>United States</td>\n",
       "      <td>Fatal(2)</td>\n",
       "      <td>Destroyed</td>\n",
       "      <td>Stinson</td>\n",
       "      <td>108-3</td>\n",
       "      <td>1.0</td>\n",
       "      <td>Reciprocating</td>\n",
       "      <td>Unknown</td>\n",
       "      <td>Personal</td>\n",
       "      <td>2.0</td>\n",
       "      <td>0.0</td>\n",
       "      <td>0.0</td>\n",
       "      <td>0.0</td>\n",
       "      <td>UNK</td>\n",
       "      <td>Probable Cause</td>\n",
       "      <td>1948</td>\n",
       "    </tr>\n",
       "    <tr>\n",
       "      <th>1</th>\n",
       "      <td>1962-07-19</td>\n",
       "      <td>BRIDGEPORT, CA</td>\n",
       "      <td>United States</td>\n",
       "      <td>Fatal(4)</td>\n",
       "      <td>Destroyed</td>\n",
       "      <td>Piper</td>\n",
       "      <td>PA24-180</td>\n",
       "      <td>1.0</td>\n",
       "      <td>Reciprocating</td>\n",
       "      <td>Unknown</td>\n",
       "      <td>Personal</td>\n",
       "      <td>4.0</td>\n",
       "      <td>0.0</td>\n",
       "      <td>0.0</td>\n",
       "      <td>0.0</td>\n",
       "      <td>UNK</td>\n",
       "      <td>Probable Cause</td>\n",
       "      <td>1962</td>\n",
       "    </tr>\n",
       "    <tr>\n",
       "      <th>2</th>\n",
       "      <td>1974-08-30</td>\n",
       "      <td>Saltville, VA</td>\n",
       "      <td>United States</td>\n",
       "      <td>Fatal(3)</td>\n",
       "      <td>Destroyed</td>\n",
       "      <td>Cessna</td>\n",
       "      <td>172M</td>\n",
       "      <td>1.0</td>\n",
       "      <td>Reciprocating</td>\n",
       "      <td>Unknown</td>\n",
       "      <td>Personal</td>\n",
       "      <td>3.0</td>\n",
       "      <td>0.0</td>\n",
       "      <td>0.0</td>\n",
       "      <td>0.0</td>\n",
       "      <td>IMC</td>\n",
       "      <td>Probable Cause</td>\n",
       "      <td>1974</td>\n",
       "    </tr>\n",
       "    <tr>\n",
       "      <th>3</th>\n",
       "      <td>1977-06-19</td>\n",
       "      <td>EUREKA, CA</td>\n",
       "      <td>United States</td>\n",
       "      <td>Fatal(2)</td>\n",
       "      <td>Destroyed</td>\n",
       "      <td>Rockwell</td>\n",
       "      <td>112</td>\n",
       "      <td>1.0</td>\n",
       "      <td>Reciprocating</td>\n",
       "      <td>Unknown</td>\n",
       "      <td>Personal</td>\n",
       "      <td>2.0</td>\n",
       "      <td>0.0</td>\n",
       "      <td>0.0</td>\n",
       "      <td>0.0</td>\n",
       "      <td>IMC</td>\n",
       "      <td>Probable Cause</td>\n",
       "      <td>1977</td>\n",
       "    </tr>\n",
       "    <tr>\n",
       "      <th>4</th>\n",
       "      <td>1979-08-02</td>\n",
       "      <td>Canton, OH</td>\n",
       "      <td>United States</td>\n",
       "      <td>Fatal(1)</td>\n",
       "      <td>Destroyed</td>\n",
       "      <td>Cessna</td>\n",
       "      <td>501</td>\n",
       "      <td>1.0</td>\n",
       "      <td>Unknown</td>\n",
       "      <td>Unknown</td>\n",
       "      <td>Personal</td>\n",
       "      <td>1.0</td>\n",
       "      <td>2.0</td>\n",
       "      <td>0.0</td>\n",
       "      <td>0.0</td>\n",
       "      <td>VMC</td>\n",
       "      <td>Probable Cause</td>\n",
       "      <td>1979</td>\n",
       "    </tr>\n",
       "  </tbody>\n",
       "</table>\n",
       "</div>"
      ],
      "text/plain": [
       "  Event date         Location        Country Injury severity Aircraft damage  \\\n",
       "0 1948-10-24  MOOSE CREEK, ID  United States        Fatal(2)       Destroyed   \n",
       "1 1962-07-19   BRIDGEPORT, CA  United States        Fatal(4)       Destroyed   \n",
       "2 1974-08-30    Saltville, VA  United States        Fatal(3)       Destroyed   \n",
       "3 1977-06-19       EUREKA, CA  United States        Fatal(2)       Destroyed   \n",
       "4 1979-08-02       Canton, OH  United States        Fatal(1)       Destroyed   \n",
       "\n",
       "       Make     Model  Number of engines    Engine type Far description  \\\n",
       "0   Stinson     108-3                1.0  Reciprocating         Unknown   \n",
       "1     Piper  PA24-180                1.0  Reciprocating         Unknown   \n",
       "2    Cessna      172M                1.0  Reciprocating         Unknown   \n",
       "3  Rockwell       112                1.0  Reciprocating         Unknown   \n",
       "4    Cessna       501                1.0        Unknown         Unknown   \n",
       "\n",
       "  Purpose of flight  Total fatal injuries  Total serious injuries  \\\n",
       "0          Personal                   2.0                     0.0   \n",
       "1          Personal                   4.0                     0.0   \n",
       "2          Personal                   3.0                     0.0   \n",
       "3          Personal                   2.0                     0.0   \n",
       "4          Personal                   1.0                     2.0   \n",
       "\n",
       "   Total minor injuries  Total uninjured Weather condition   Report status  \\\n",
       "0                   0.0              0.0               UNK  Probable Cause   \n",
       "1                   0.0              0.0               UNK  Probable Cause   \n",
       "2                   0.0              0.0               IMC  Probable Cause   \n",
       "3                   0.0              0.0               IMC  Probable Cause   \n",
       "4                   0.0              0.0               VMC  Probable Cause   \n",
       "\n",
       "   Year  \n",
       "0  1948  \n",
       "1  1962  \n",
       "2  1974  \n",
       "3  1977  \n",
       "4  1979  "
      ]
     },
     "execution_count": 21,
     "metadata": {},
     "output_type": "execute_result"
    }
   ],
   "source": [
    "aviation_df.head()"
   ]
  },
  {
   "cell_type": "code",
   "execution_count": 22,
   "metadata": {},
   "outputs": [
    {
     "data": {
      "text/html": [
       "<div>\n",
       "<style scoped>\n",
       "    .dataframe tbody tr th:only-of-type {\n",
       "        vertical-align: middle;\n",
       "    }\n",
       "\n",
       "    .dataframe tbody tr th {\n",
       "        vertical-align: top;\n",
       "    }\n",
       "\n",
       "    .dataframe thead th {\n",
       "        text-align: right;\n",
       "    }\n",
       "</style>\n",
       "<table border=\"1\" class=\"dataframe\">\n",
       "  <thead>\n",
       "    <tr style=\"text-align: right;\">\n",
       "      <th></th>\n",
       "      <th>Number of engines</th>\n",
       "      <th>Total fatal injuries</th>\n",
       "      <th>Total serious injuries</th>\n",
       "      <th>Total minor injuries</th>\n",
       "      <th>Total uninjured</th>\n",
       "      <th>Year</th>\n",
       "    </tr>\n",
       "  </thead>\n",
       "  <tbody>\n",
       "    <tr>\n",
       "      <th>count</th>\n",
       "      <td>72290.000000</td>\n",
       "      <td>72290.000000</td>\n",
       "      <td>72290.000000</td>\n",
       "      <td>72290.000000</td>\n",
       "      <td>72290.000000</td>\n",
       "      <td>72290.000000</td>\n",
       "    </tr>\n",
       "    <tr>\n",
       "      <th>mean</th>\n",
       "      <td>1.151612</td>\n",
       "      <td>0.584797</td>\n",
       "      <td>0.237626</td>\n",
       "      <td>0.314760</td>\n",
       "      <td>5.644557</td>\n",
       "      <td>1998.229990</td>\n",
       "    </tr>\n",
       "    <tr>\n",
       "      <th>std</th>\n",
       "      <td>0.442558</td>\n",
       "      <td>5.444274</td>\n",
       "      <td>1.529045</td>\n",
       "      <td>1.773637</td>\n",
       "      <td>29.348785</td>\n",
       "      <td>11.710404</td>\n",
       "    </tr>\n",
       "    <tr>\n",
       "      <th>min</th>\n",
       "      <td>0.000000</td>\n",
       "      <td>0.000000</td>\n",
       "      <td>0.000000</td>\n",
       "      <td>0.000000</td>\n",
       "      <td>0.000000</td>\n",
       "      <td>1948.000000</td>\n",
       "    </tr>\n",
       "    <tr>\n",
       "      <th>25%</th>\n",
       "      <td>1.000000</td>\n",
       "      <td>0.000000</td>\n",
       "      <td>0.000000</td>\n",
       "      <td>0.000000</td>\n",
       "      <td>0.000000</td>\n",
       "      <td>1988.000000</td>\n",
       "    </tr>\n",
       "    <tr>\n",
       "      <th>50%</th>\n",
       "      <td>1.000000</td>\n",
       "      <td>0.000000</td>\n",
       "      <td>0.000000</td>\n",
       "      <td>0.000000</td>\n",
       "      <td>1.000000</td>\n",
       "      <td>1997.000000</td>\n",
       "    </tr>\n",
       "    <tr>\n",
       "      <th>75%</th>\n",
       "      <td>1.000000</td>\n",
       "      <td>0.000000</td>\n",
       "      <td>0.000000</td>\n",
       "      <td>0.000000</td>\n",
       "      <td>2.000000</td>\n",
       "      <td>2007.000000</td>\n",
       "    </tr>\n",
       "    <tr>\n",
       "      <th>max</th>\n",
       "      <td>4.000000</td>\n",
       "      <td>349.000000</td>\n",
       "      <td>161.000000</td>\n",
       "      <td>200.000000</td>\n",
       "      <td>699.000000</td>\n",
       "      <td>2022.000000</td>\n",
       "    </tr>\n",
       "  </tbody>\n",
       "</table>\n",
       "</div>"
      ],
      "text/plain": [
       "       Number of engines  Total fatal injuries  Total serious injuries  \\\n",
       "count       72290.000000          72290.000000            72290.000000   \n",
       "mean            1.151612              0.584797                0.237626   \n",
       "std             0.442558              5.444274                1.529045   \n",
       "min             0.000000              0.000000                0.000000   \n",
       "25%             1.000000              0.000000                0.000000   \n",
       "50%             1.000000              0.000000                0.000000   \n",
       "75%             1.000000              0.000000                0.000000   \n",
       "max             4.000000            349.000000              161.000000   \n",
       "\n",
       "       Total minor injuries  Total uninjured          Year  \n",
       "count          72290.000000     72290.000000  72290.000000  \n",
       "mean               0.314760         5.644557   1998.229990  \n",
       "std                1.773637        29.348785     11.710404  \n",
       "min                0.000000         0.000000   1948.000000  \n",
       "25%                0.000000         0.000000   1988.000000  \n",
       "50%                0.000000         1.000000   1997.000000  \n",
       "75%                0.000000         2.000000   2007.000000  \n",
       "max              200.000000       699.000000   2022.000000  "
      ]
     },
     "execution_count": 22,
     "metadata": {},
     "output_type": "execute_result"
    }
   ],
   "source": [
    "aviation_df.describe()"
   ]
  },
  {
   "cell_type": "code",
   "execution_count": 23,
   "metadata": {},
   "outputs": [
    {
     "data": {
      "text/plain": [
       "Reciprocating      57123\n",
       "Unknown             6863\n",
       "Turbo Shaft         2992\n",
       "Turbo Prop          2750\n",
       "Turbo Fan           2047\n",
       "Turbo Jet            495\n",
       "Geared Turbofan       12\n",
       "None                   6\n",
       "UNK                    1\n",
       "NONE                   1\n",
       "Name: Engine type, dtype: int64"
      ]
     },
     "execution_count": 23,
     "metadata": {},
     "output_type": "execute_result"
    }
   ],
   "source": [
    "aviation_df['Engine type'].value_counts()"
   ]
  },
  {
   "cell_type": "code",
   "execution_count": 24,
   "metadata": {},
   "outputs": [],
   "source": [
    "#fig, axes = plt.subplots(figsize = (10,6), nrows = 2, ncols = 2)\n",
    "\n",
    "#axes1 = axes[0][0]\n",
    "#axes2 = axes[0][1]\n",
    "#axes3 = axes[1][0]\n",
    "#axes4 = axes[1][1]\n",
    "\n",
    "#axes1.bar(x = aviation_df['Engine type'], height = aviation_df['Total fatal injuries'])\n",
    "#plt.xticks(rotation = 45)\n",
    "#axes2.bar(x = aviation_df['Engine type'], height = aviation_df['Total serious injuries'])\n",
    "#plt.xticks(rotation = 45)\n",
    "#axes3.bar(x = aviation_df['Engine type'], height = aviation_df['Total minor injuries'])\n",
    "#plt.xticks(rotation = 45)\n",
    "#axes4.bar(x = aviation_df['Engine type'], height = aviation_df['Total uninjured'])\n",
    "#plt.xticks(rotation = 45)\n",
    "#plt.show()"
   ]
  },
  {
   "cell_type": "code",
   "execution_count": 25,
   "metadata": {},
   "outputs": [],
   "source": [
    "#fig, axes = plt.subplots(figsize = (10,6), nrows = 2, ncols = 2)\n",
    "\n",
    "#axes1 = axes[0][0]\n",
    "#axes2 = axes[0][1]\n",
    "#axes3 = axes[1][0]\n",
    "#axes4 = axes[1][1]\n",
    "\n",
    "#axes1.bar(x = aviation_df['Number of engines'], height = aviation_df['Total fatal injuries'])\n",
    "#axes2.bar(x = aviation_df['Number of engines'], height = aviation_df['Total serious injuries'])\n",
    "#axes3.bar(x = aviation_df['Number of engines'], height = aviation_df['Total minor injuries'])\n",
    "#axes4.bar(x = aviation_df['Number of engines'], height = aviation_df['Total uninjured'])\n",
    "#plt.show()"
   ]
  },
  {
   "cell_type": "code",
   "execution_count": 26,
   "metadata": {},
   "outputs": [],
   "source": [
    "aviation_df['Total passengers'] = aviation_df['Total fatal injuries'] + aviation_df['Total serious injuries'] + aviation_df['Total minor injuries'] + aviation_df['Total uninjured']"
   ]
  },
  {
   "cell_type": "code",
   "execution_count": 27,
   "metadata": {},
   "outputs": [],
   "source": [
    "aviation_df = aviation_df[aviation_df['Total passengers'] != 0]"
   ]
  },
  {
   "cell_type": "code",
   "execution_count": 28,
   "metadata": {},
   "outputs": [
    {
     "data": {
      "text/plain": [
       "3.2611208929935884"
      ]
     },
     "execution_count": 28,
     "metadata": {},
     "output_type": "execute_result"
    }
   ],
   "source": [
    "mean_num_passengers_single = aviation_df.loc[aviation_df['Number of engines'] == 1, 'Total passengers'].mean()\n",
    "mean_num_passengers_single"
   ]
  },
  {
   "cell_type": "code",
   "execution_count": 33,
   "metadata": {},
   "outputs": [
    {
     "data": {
      "text/html": [
       "<div>\n",
       "<style scoped>\n",
       "    .dataframe tbody tr th:only-of-type {\n",
       "        vertical-align: middle;\n",
       "    }\n",
       "\n",
       "    .dataframe tbody tr th {\n",
       "        vertical-align: top;\n",
       "    }\n",
       "\n",
       "    .dataframe thead th {\n",
       "        text-align: right;\n",
       "    }\n",
       "</style>\n",
       "<table border=\"1\" class=\"dataframe\">\n",
       "  <thead>\n",
       "    <tr style=\"text-align: right;\">\n",
       "      <th></th>\n",
       "      <th>Event date</th>\n",
       "      <th>Location</th>\n",
       "      <th>Country</th>\n",
       "      <th>Injury severity</th>\n",
       "      <th>Aircraft damage</th>\n",
       "      <th>Make</th>\n",
       "      <th>Model</th>\n",
       "      <th>Number of engines</th>\n",
       "      <th>Engine type</th>\n",
       "      <th>Far description</th>\n",
       "      <th>Purpose of flight</th>\n",
       "      <th>Total fatal injuries</th>\n",
       "      <th>Total serious injuries</th>\n",
       "      <th>Total minor injuries</th>\n",
       "      <th>Total uninjured</th>\n",
       "      <th>Weather condition</th>\n",
       "      <th>Report status</th>\n",
       "      <th>Year</th>\n",
       "      <th>Total passengers</th>\n",
       "    </tr>\n",
       "  </thead>\n",
       "  <tbody>\n",
       "    <tr>\n",
       "      <th>0</th>\n",
       "      <td>1948-10-24</td>\n",
       "      <td>MOOSE CREEK, ID</td>\n",
       "      <td>United States</td>\n",
       "      <td>Fatal(2)</td>\n",
       "      <td>Destroyed</td>\n",
       "      <td>Stinson</td>\n",
       "      <td>108-3</td>\n",
       "      <td>1.0</td>\n",
       "      <td>Reciprocating</td>\n",
       "      <td>Unknown</td>\n",
       "      <td>Personal</td>\n",
       "      <td>2.0</td>\n",
       "      <td>0.0</td>\n",
       "      <td>0.0</td>\n",
       "      <td>0.0</td>\n",
       "      <td>UNK</td>\n",
       "      <td>Probable Cause</td>\n",
       "      <td>1948</td>\n",
       "      <td>2.0</td>\n",
       "    </tr>\n",
       "    <tr>\n",
       "      <th>1</th>\n",
       "      <td>1962-07-19</td>\n",
       "      <td>BRIDGEPORT, CA</td>\n",
       "      <td>United States</td>\n",
       "      <td>Fatal(4)</td>\n",
       "      <td>Destroyed</td>\n",
       "      <td>Piper</td>\n",
       "      <td>PA24-180</td>\n",
       "      <td>1.0</td>\n",
       "      <td>Reciprocating</td>\n",
       "      <td>Unknown</td>\n",
       "      <td>Personal</td>\n",
       "      <td>4.0</td>\n",
       "      <td>0.0</td>\n",
       "      <td>0.0</td>\n",
       "      <td>0.0</td>\n",
       "      <td>UNK</td>\n",
       "      <td>Probable Cause</td>\n",
       "      <td>1962</td>\n",
       "      <td>4.0</td>\n",
       "    </tr>\n",
       "    <tr>\n",
       "      <th>2</th>\n",
       "      <td>1974-08-30</td>\n",
       "      <td>Saltville, VA</td>\n",
       "      <td>United States</td>\n",
       "      <td>Fatal(3)</td>\n",
       "      <td>Destroyed</td>\n",
       "      <td>Cessna</td>\n",
       "      <td>172M</td>\n",
       "      <td>1.0</td>\n",
       "      <td>Reciprocating</td>\n",
       "      <td>Unknown</td>\n",
       "      <td>Personal</td>\n",
       "      <td>3.0</td>\n",
       "      <td>0.0</td>\n",
       "      <td>0.0</td>\n",
       "      <td>0.0</td>\n",
       "      <td>IMC</td>\n",
       "      <td>Probable Cause</td>\n",
       "      <td>1974</td>\n",
       "      <td>3.0</td>\n",
       "    </tr>\n",
       "    <tr>\n",
       "      <th>3</th>\n",
       "      <td>1977-06-19</td>\n",
       "      <td>EUREKA, CA</td>\n",
       "      <td>United States</td>\n",
       "      <td>Fatal(2)</td>\n",
       "      <td>Destroyed</td>\n",
       "      <td>Rockwell</td>\n",
       "      <td>112</td>\n",
       "      <td>1.0</td>\n",
       "      <td>Reciprocating</td>\n",
       "      <td>Unknown</td>\n",
       "      <td>Personal</td>\n",
       "      <td>2.0</td>\n",
       "      <td>0.0</td>\n",
       "      <td>0.0</td>\n",
       "      <td>0.0</td>\n",
       "      <td>IMC</td>\n",
       "      <td>Probable Cause</td>\n",
       "      <td>1977</td>\n",
       "      <td>2.0</td>\n",
       "    </tr>\n",
       "    <tr>\n",
       "      <th>4</th>\n",
       "      <td>1979-08-02</td>\n",
       "      <td>Canton, OH</td>\n",
       "      <td>United States</td>\n",
       "      <td>Fatal(1)</td>\n",
       "      <td>Destroyed</td>\n",
       "      <td>Cessna</td>\n",
       "      <td>501</td>\n",
       "      <td>1.0</td>\n",
       "      <td>Unknown</td>\n",
       "      <td>Unknown</td>\n",
       "      <td>Personal</td>\n",
       "      <td>1.0</td>\n",
       "      <td>2.0</td>\n",
       "      <td>0.0</td>\n",
       "      <td>0.0</td>\n",
       "      <td>VMC</td>\n",
       "      <td>Probable Cause</td>\n",
       "      <td>1979</td>\n",
       "      <td>3.0</td>\n",
       "    </tr>\n",
       "  </tbody>\n",
       "</table>\n",
       "</div>"
      ],
      "text/plain": [
       "  Event date         Location        Country Injury severity Aircraft damage  \\\n",
       "0 1948-10-24  MOOSE CREEK, ID  United States        Fatal(2)       Destroyed   \n",
       "1 1962-07-19   BRIDGEPORT, CA  United States        Fatal(4)       Destroyed   \n",
       "2 1974-08-30    Saltville, VA  United States        Fatal(3)       Destroyed   \n",
       "3 1977-06-19       EUREKA, CA  United States        Fatal(2)       Destroyed   \n",
       "4 1979-08-02       Canton, OH  United States        Fatal(1)       Destroyed   \n",
       "\n",
       "       Make     Model  Number of engines    Engine type Far description  \\\n",
       "0   Stinson     108-3                1.0  Reciprocating         Unknown   \n",
       "1     Piper  PA24-180                1.0  Reciprocating         Unknown   \n",
       "2    Cessna      172M                1.0  Reciprocating         Unknown   \n",
       "3  Rockwell       112                1.0  Reciprocating         Unknown   \n",
       "4    Cessna       501                1.0        Unknown         Unknown   \n",
       "\n",
       "  Purpose of flight  Total fatal injuries  Total serious injuries  \\\n",
       "0          Personal                   2.0                     0.0   \n",
       "1          Personal                   4.0                     0.0   \n",
       "2          Personal                   3.0                     0.0   \n",
       "3          Personal                   2.0                     0.0   \n",
       "4          Personal                   1.0                     2.0   \n",
       "\n",
       "   Total minor injuries  Total uninjured Weather condition   Report status  \\\n",
       "0                   0.0              0.0               UNK  Probable Cause   \n",
       "1                   0.0              0.0               UNK  Probable Cause   \n",
       "2                   0.0              0.0               IMC  Probable Cause   \n",
       "3                   0.0              0.0               IMC  Probable Cause   \n",
       "4                   0.0              0.0               VMC  Probable Cause   \n",
       "\n",
       "   Year  Total passengers  \n",
       "0  1948               2.0  \n",
       "1  1962               4.0  \n",
       "2  1974               3.0  \n",
       "3  1977               2.0  \n",
       "4  1979               3.0  "
      ]
     },
     "execution_count": 33,
     "metadata": {},
     "output_type": "execute_result"
    }
   ],
   "source": [
    "aviation_df.head()"
   ]
  },
  {
   "cell_type": "code",
   "execution_count": 37,
   "metadata": {},
   "outputs": [
    {
     "name": "stdout",
     "output_type": "stream",
     "text": [
      "<class 'pandas.core.frame.DataFrame'>\n",
      "Int64Index: 71164 entries, 0 to 90347\n",
      "Data columns (total 19 columns):\n",
      " #   Column                  Non-Null Count  Dtype         \n",
      "---  ------                  --------------  -----         \n",
      " 0   Event date              71164 non-null  datetime64[ns]\n",
      " 1   Location                71164 non-null  object        \n",
      " 2   Country                 71164 non-null  object        \n",
      " 3   Injury severity         71164 non-null  object        \n",
      " 4   Aircraft damage         71164 non-null  object        \n",
      " 5   Make                    71164 non-null  object        \n",
      " 6   Model                   71164 non-null  object        \n",
      " 7   Number of engines       71164 non-null  float64       \n",
      " 8   Engine type             71164 non-null  object        \n",
      " 9   Far description         71164 non-null  object        \n",
      " 10  Purpose of flight       71164 non-null  object        \n",
      " 11  Total fatal injuries    71164 non-null  float64       \n",
      " 12  Total serious injuries  71164 non-null  float64       \n",
      " 13  Total minor injuries    71164 non-null  float64       \n",
      " 14  Total uninjured         71164 non-null  float64       \n",
      " 15  Weather condition       71164 non-null  object        \n",
      " 16  Report status           71164 non-null  object        \n",
      " 17  Year                    71164 non-null  Int64         \n",
      " 18  Total passengers        71164 non-null  float64       \n",
      "dtypes: Int64(1), datetime64[ns](1), float64(6), object(11)\n",
      "memory usage: 10.9+ MB\n"
     ]
    }
   ],
   "source": [
    "aviation_df.info()"
   ]
  },
  {
   "cell_type": "code",
   "execution_count": 38,
   "metadata": {},
   "outputs": [],
   "source": [
    "aviation_df[\"Fatal percentage\"] = (aviation_df[\"Total fatal injuries\"] / aviation_df['Total passengers'] ) * 100\n"
   ]
  },
  {
   "cell_type": "code",
   "execution_count": 39,
   "metadata": {},
   "outputs": [
    {
     "data": {
      "text/plain": [
       "Number of engines\n",
       "0.0      308.0\n",
       "1.0    30171.0\n",
       "2.0     9372.0\n",
       "3.0      769.0\n",
       "4.0     1655.0\n",
       "Name: Total fatal injuries, dtype: float64"
      ]
     },
     "execution_count": 39,
     "metadata": {},
     "output_type": "execute_result"
    }
   ],
   "source": [
    "aviation_df.groupby('Number of engines')['Total fatal injuries'].sum()"
   ]
  },
  {
   "cell_type": "code",
   "execution_count": 40,
   "metadata": {},
   "outputs": [
    {
     "data": {
      "text/plain": [
       "1.0    60202\n",
       "2.0     9405\n",
       "0.0      728\n",
       "3.0      443\n",
       "4.0      386\n",
       "Name: Number of engines, dtype: int64"
      ]
     },
     "execution_count": 40,
     "metadata": {},
     "output_type": "execute_result"
    }
   ],
   "source": [
    "aviation_df['Number of engines'].value_counts()"
   ]
  },
  {
   "cell_type": "code",
   "execution_count": 42,
   "metadata": {},
   "outputs": [
    {
     "data": {
      "text/html": [
       "<div>\n",
       "<style scoped>\n",
       "    .dataframe tbody tr th:only-of-type {\n",
       "        vertical-align: middle;\n",
       "    }\n",
       "\n",
       "    .dataframe tbody tr th {\n",
       "        vertical-align: top;\n",
       "    }\n",
       "\n",
       "    .dataframe thead th {\n",
       "        text-align: right;\n",
       "    }\n",
       "</style>\n",
       "<table border=\"1\" class=\"dataframe\">\n",
       "  <thead>\n",
       "    <tr style=\"text-align: right;\">\n",
       "      <th></th>\n",
       "      <th>Event date</th>\n",
       "      <th>Location</th>\n",
       "      <th>Country</th>\n",
       "      <th>Injury severity</th>\n",
       "      <th>Aircraft damage</th>\n",
       "      <th>Make</th>\n",
       "      <th>Model</th>\n",
       "      <th>Number of engines</th>\n",
       "      <th>Engine type</th>\n",
       "      <th>Far description</th>\n",
       "      <th>Purpose of flight</th>\n",
       "      <th>Total fatal injuries</th>\n",
       "      <th>Total serious injuries</th>\n",
       "      <th>Total minor injuries</th>\n",
       "      <th>Total uninjured</th>\n",
       "      <th>Weather condition</th>\n",
       "      <th>Report status</th>\n",
       "      <th>Year</th>\n",
       "      <th>Total passengers</th>\n",
       "      <th>Fatal percentage</th>\n",
       "    </tr>\n",
       "  </thead>\n",
       "  <tbody>\n",
       "    <tr>\n",
       "      <th>0</th>\n",
       "      <td>1948-10-24</td>\n",
       "      <td>MOOSE CREEK, ID</td>\n",
       "      <td>United States</td>\n",
       "      <td>Fatal(2)</td>\n",
       "      <td>Destroyed</td>\n",
       "      <td>Stinson</td>\n",
       "      <td>108-3</td>\n",
       "      <td>1.0</td>\n",
       "      <td>Reciprocating</td>\n",
       "      <td>Unknown</td>\n",
       "      <td>Personal</td>\n",
       "      <td>2.0</td>\n",
       "      <td>0.0</td>\n",
       "      <td>0.0</td>\n",
       "      <td>0.0</td>\n",
       "      <td>UNK</td>\n",
       "      <td>Probable Cause</td>\n",
       "      <td>1948</td>\n",
       "      <td>2.0</td>\n",
       "      <td>100.000000</td>\n",
       "    </tr>\n",
       "    <tr>\n",
       "      <th>1</th>\n",
       "      <td>1962-07-19</td>\n",
       "      <td>BRIDGEPORT, CA</td>\n",
       "      <td>United States</td>\n",
       "      <td>Fatal(4)</td>\n",
       "      <td>Destroyed</td>\n",
       "      <td>Piper</td>\n",
       "      <td>PA24-180</td>\n",
       "      <td>1.0</td>\n",
       "      <td>Reciprocating</td>\n",
       "      <td>Unknown</td>\n",
       "      <td>Personal</td>\n",
       "      <td>4.0</td>\n",
       "      <td>0.0</td>\n",
       "      <td>0.0</td>\n",
       "      <td>0.0</td>\n",
       "      <td>UNK</td>\n",
       "      <td>Probable Cause</td>\n",
       "      <td>1962</td>\n",
       "      <td>4.0</td>\n",
       "      <td>100.000000</td>\n",
       "    </tr>\n",
       "    <tr>\n",
       "      <th>2</th>\n",
       "      <td>1974-08-30</td>\n",
       "      <td>Saltville, VA</td>\n",
       "      <td>United States</td>\n",
       "      <td>Fatal(3)</td>\n",
       "      <td>Destroyed</td>\n",
       "      <td>Cessna</td>\n",
       "      <td>172M</td>\n",
       "      <td>1.0</td>\n",
       "      <td>Reciprocating</td>\n",
       "      <td>Unknown</td>\n",
       "      <td>Personal</td>\n",
       "      <td>3.0</td>\n",
       "      <td>0.0</td>\n",
       "      <td>0.0</td>\n",
       "      <td>0.0</td>\n",
       "      <td>IMC</td>\n",
       "      <td>Probable Cause</td>\n",
       "      <td>1974</td>\n",
       "      <td>3.0</td>\n",
       "      <td>100.000000</td>\n",
       "    </tr>\n",
       "    <tr>\n",
       "      <th>3</th>\n",
       "      <td>1977-06-19</td>\n",
       "      <td>EUREKA, CA</td>\n",
       "      <td>United States</td>\n",
       "      <td>Fatal(2)</td>\n",
       "      <td>Destroyed</td>\n",
       "      <td>Rockwell</td>\n",
       "      <td>112</td>\n",
       "      <td>1.0</td>\n",
       "      <td>Reciprocating</td>\n",
       "      <td>Unknown</td>\n",
       "      <td>Personal</td>\n",
       "      <td>2.0</td>\n",
       "      <td>0.0</td>\n",
       "      <td>0.0</td>\n",
       "      <td>0.0</td>\n",
       "      <td>IMC</td>\n",
       "      <td>Probable Cause</td>\n",
       "      <td>1977</td>\n",
       "      <td>2.0</td>\n",
       "      <td>100.000000</td>\n",
       "    </tr>\n",
       "    <tr>\n",
       "      <th>4</th>\n",
       "      <td>1979-08-02</td>\n",
       "      <td>Canton, OH</td>\n",
       "      <td>United States</td>\n",
       "      <td>Fatal(1)</td>\n",
       "      <td>Destroyed</td>\n",
       "      <td>Cessna</td>\n",
       "      <td>501</td>\n",
       "      <td>1.0</td>\n",
       "      <td>Unknown</td>\n",
       "      <td>Unknown</td>\n",
       "      <td>Personal</td>\n",
       "      <td>1.0</td>\n",
       "      <td>2.0</td>\n",
       "      <td>0.0</td>\n",
       "      <td>0.0</td>\n",
       "      <td>VMC</td>\n",
       "      <td>Probable Cause</td>\n",
       "      <td>1979</td>\n",
       "      <td>3.0</td>\n",
       "      <td>33.333333</td>\n",
       "    </tr>\n",
       "  </tbody>\n",
       "</table>\n",
       "</div>"
      ],
      "text/plain": [
       "  Event date         Location        Country Injury severity Aircraft damage  \\\n",
       "0 1948-10-24  MOOSE CREEK, ID  United States        Fatal(2)       Destroyed   \n",
       "1 1962-07-19   BRIDGEPORT, CA  United States        Fatal(4)       Destroyed   \n",
       "2 1974-08-30    Saltville, VA  United States        Fatal(3)       Destroyed   \n",
       "3 1977-06-19       EUREKA, CA  United States        Fatal(2)       Destroyed   \n",
       "4 1979-08-02       Canton, OH  United States        Fatal(1)       Destroyed   \n",
       "\n",
       "       Make     Model  Number of engines    Engine type Far description  \\\n",
       "0   Stinson     108-3                1.0  Reciprocating         Unknown   \n",
       "1     Piper  PA24-180                1.0  Reciprocating         Unknown   \n",
       "2    Cessna      172M                1.0  Reciprocating         Unknown   \n",
       "3  Rockwell       112                1.0  Reciprocating         Unknown   \n",
       "4    Cessna       501                1.0        Unknown         Unknown   \n",
       "\n",
       "  Purpose of flight  Total fatal injuries  Total serious injuries  \\\n",
       "0          Personal                   2.0                     0.0   \n",
       "1          Personal                   4.0                     0.0   \n",
       "2          Personal                   3.0                     0.0   \n",
       "3          Personal                   2.0                     0.0   \n",
       "4          Personal                   1.0                     2.0   \n",
       "\n",
       "   Total minor injuries  Total uninjured Weather condition   Report status  \\\n",
       "0                   0.0              0.0               UNK  Probable Cause   \n",
       "1                   0.0              0.0               UNK  Probable Cause   \n",
       "2                   0.0              0.0               IMC  Probable Cause   \n",
       "3                   0.0              0.0               IMC  Probable Cause   \n",
       "4                   0.0              0.0               VMC  Probable Cause   \n",
       "\n",
       "   Year  Total passengers  Fatal percentage  \n",
       "0  1948               2.0        100.000000  \n",
       "1  1962               4.0        100.000000  \n",
       "2  1974               3.0        100.000000  \n",
       "3  1977               2.0        100.000000  \n",
       "4  1979               3.0         33.333333  "
      ]
     },
     "execution_count": 42,
     "metadata": {},
     "output_type": "execute_result"
    }
   ],
   "source": [
    "aviation_df.head()"
   ]
  },
  {
   "cell_type": "code",
   "execution_count": 44,
   "metadata": {},
   "outputs": [
    {
     "name": "stdout",
     "output_type": "stream",
     "text": [
      "<class 'pandas.core.frame.DataFrame'>\n",
      "Int64Index: 71164 entries, 0 to 90347\n",
      "Data columns (total 20 columns):\n",
      " #   Column                  Non-Null Count  Dtype         \n",
      "---  ------                  --------------  -----         \n",
      " 0   Event date              71164 non-null  datetime64[ns]\n",
      " 1   Location                71164 non-null  object        \n",
      " 2   Country                 71164 non-null  object        \n",
      " 3   Injury severity         71164 non-null  object        \n",
      " 4   Aircraft damage         71164 non-null  object        \n",
      " 5   Make                    71164 non-null  object        \n",
      " 6   Model                   71164 non-null  object        \n",
      " 7   Number of engines       71164 non-null  float64       \n",
      " 8   Engine type             71164 non-null  object        \n",
      " 9   Far description         71164 non-null  object        \n",
      " 10  Purpose of flight       71164 non-null  object        \n",
      " 11  Total fatal injuries    71164 non-null  float64       \n",
      " 12  Total serious injuries  71164 non-null  float64       \n",
      " 13  Total minor injuries    71164 non-null  float64       \n",
      " 14  Total uninjured         71164 non-null  float64       \n",
      " 15  Weather condition       71164 non-null  object        \n",
      " 16  Report status           71164 non-null  object        \n",
      " 17  Year                    71164 non-null  Int64         \n",
      " 18  Total passengers        71164 non-null  float64       \n",
      " 19  Fatal percentage        71164 non-null  float64       \n",
      "dtypes: Int64(1), datetime64[ns](1), float64(7), object(11)\n",
      "memory usage: 11.5+ MB\n"
     ]
    }
   ],
   "source": [
    "aviation_df.info()"
   ]
  },
  {
   "cell_type": "code",
   "execution_count": 45,
   "metadata": {},
   "outputs": [],
   "source": [
    "grouped_df = aviation_df.groupby(\"Number of engines\").agg({\"Total fatal injuries\": \"sum\", \"Total passengers\": \"sum\"})\n"
   ]
  },
  {
   "cell_type": "code",
   "execution_count": 46,
   "metadata": {},
   "outputs": [],
   "source": []
  },
  {
   "cell_type": "code",
   "execution_count": 47,
   "metadata": {},
   "outputs": [
    {
     "data": {
      "text/html": [
       "<div>\n",
       "<style scoped>\n",
       "    .dataframe tbody tr th:only-of-type {\n",
       "        vertical-align: middle;\n",
       "    }\n",
       "\n",
       "    .dataframe tbody tr th {\n",
       "        vertical-align: top;\n",
       "    }\n",
       "\n",
       "    .dataframe thead th {\n",
       "        text-align: right;\n",
       "    }\n",
       "</style>\n",
       "<table border=\"1\" class=\"dataframe\">\n",
       "  <thead>\n",
       "    <tr style=\"text-align: right;\">\n",
       "      <th></th>\n",
       "      <th>Total fatal injuries</th>\n",
       "      <th>Total passengers</th>\n",
       "      <th>Percentage chance of fatal injury</th>\n",
       "    </tr>\n",
       "    <tr>\n",
       "      <th>Number of engines</th>\n",
       "      <th></th>\n",
       "      <th></th>\n",
       "      <th></th>\n",
       "    </tr>\n",
       "  </thead>\n",
       "  <tbody>\n",
       "    <tr>\n",
       "      <th>0.0</th>\n",
       "      <td>308.0</td>\n",
       "      <td>3176.0</td>\n",
       "      <td>9.697733</td>\n",
       "    </tr>\n",
       "    <tr>\n",
       "      <th>1.0</th>\n",
       "      <td>30171.0</td>\n",
       "      <td>196326.0</td>\n",
       "      <td>15.367807</td>\n",
       "    </tr>\n",
       "    <tr>\n",
       "      <th>2.0</th>\n",
       "      <td>9372.0</td>\n",
       "      <td>195043.0</td>\n",
       "      <td>4.805094</td>\n",
       "    </tr>\n",
       "    <tr>\n",
       "      <th>3.0</th>\n",
       "      <td>769.0</td>\n",
       "      <td>52842.0</td>\n",
       "      <td>1.455282</td>\n",
       "    </tr>\n",
       "    <tr>\n",
       "      <th>4.0</th>\n",
       "      <td>1655.0</td>\n",
       "      <td>42865.0</td>\n",
       "      <td>3.860959</td>\n",
       "    </tr>\n",
       "  </tbody>\n",
       "</table>\n",
       "</div>"
      ],
      "text/plain": [
       "                   Total fatal injuries  Total passengers  \\\n",
       "Number of engines                                           \n",
       "0.0                               308.0            3176.0   \n",
       "1.0                             30171.0          196326.0   \n",
       "2.0                              9372.0          195043.0   \n",
       "3.0                               769.0           52842.0   \n",
       "4.0                              1655.0           42865.0   \n",
       "\n",
       "                   Percentage chance of fatal injury  \n",
       "Number of engines                                     \n",
       "0.0                                         9.697733  \n",
       "1.0                                        15.367807  \n",
       "2.0                                         4.805094  \n",
       "3.0                                         1.455282  \n",
       "4.0                                         3.860959  "
      ]
     },
     "execution_count": 47,
     "metadata": {},
     "output_type": "execute_result"
    }
   ],
   "source": [
    "grouped_df.head()"
   ]
  },
  {
   "cell_type": "code",
   "execution_count": null,
   "metadata": {},
   "outputs": [],
   "source": [
    "single_engine_planes = aviation_df[aviation_df['Number of engines'] == 1]\n",
    "total_single_engine_planes = single_engine_planes.shape[0]"
   ]
  },
  {
   "cell_type": "code",
   "execution_count": null,
   "metadata": {},
   "outputs": [],
   "source": []
  },
  {
   "cell_type": "code",
   "execution_count": null,
   "metadata": {},
   "outputs": [],
   "source": []
  },
  {
   "cell_type": "code",
   "execution_count": null,
   "metadata": {},
   "outputs": [],
   "source": []
  },
  {
   "cell_type": "code",
   "execution_count": 50,
   "metadata": {},
   "outputs": [
    {
     "data": {
      "text/plain": [
       "15.367806607377524"
      ]
     },
     "execution_count": 50,
     "metadata": {},
     "output_type": "execute_result"
    }
   ],
   "source": [
    "\n",
    "total_fatalities_single = single_engine_planes['Total fatal injuries'].sum()\n",
    "fatalities_per_accident_single = total_fatalities_single / total_single_engine_planes\n",
    "fatality_single_engine_per = ( fatalities_per_accident_single/ mean_num_passengers_single) * 100\n",
    "fatality_single_engine_per"
   ]
  },
  {
   "cell_type": "code",
   "execution_count": 51,
   "metadata": {
    "scrolled": true
   },
   "outputs": [
    {
     "data": {
      "text/html": [
       "<div>\n",
       "<style scoped>\n",
       "    .dataframe tbody tr th:only-of-type {\n",
       "        vertical-align: middle;\n",
       "    }\n",
       "\n",
       "    .dataframe tbody tr th {\n",
       "        vertical-align: top;\n",
       "    }\n",
       "\n",
       "    .dataframe thead th {\n",
       "        text-align: right;\n",
       "    }\n",
       "</style>\n",
       "<table border=\"1\" class=\"dataframe\">\n",
       "  <thead>\n",
       "    <tr style=\"text-align: right;\">\n",
       "      <th></th>\n",
       "      <th>Event date</th>\n",
       "      <th>Location</th>\n",
       "      <th>Country</th>\n",
       "      <th>Injury severity</th>\n",
       "      <th>Aircraft damage</th>\n",
       "      <th>Make</th>\n",
       "      <th>Model</th>\n",
       "      <th>Number of engines</th>\n",
       "      <th>Engine type</th>\n",
       "      <th>Far description</th>\n",
       "      <th>Purpose of flight</th>\n",
       "      <th>Total fatal injuries</th>\n",
       "      <th>Total serious injuries</th>\n",
       "      <th>Total minor injuries</th>\n",
       "      <th>Total uninjured</th>\n",
       "      <th>Weather condition</th>\n",
       "      <th>Report status</th>\n",
       "      <th>Year</th>\n",
       "      <th>Total passengers</th>\n",
       "      <th>Fatal percentage</th>\n",
       "    </tr>\n",
       "  </thead>\n",
       "  <tbody>\n",
       "    <tr>\n",
       "      <th>0</th>\n",
       "      <td>1948-10-24</td>\n",
       "      <td>MOOSE CREEK, ID</td>\n",
       "      <td>United States</td>\n",
       "      <td>Fatal(2)</td>\n",
       "      <td>Destroyed</td>\n",
       "      <td>Stinson</td>\n",
       "      <td>108-3</td>\n",
       "      <td>1.0</td>\n",
       "      <td>Reciprocating</td>\n",
       "      <td>Unknown</td>\n",
       "      <td>Personal</td>\n",
       "      <td>2.0</td>\n",
       "      <td>0.0</td>\n",
       "      <td>0.0</td>\n",
       "      <td>0.0</td>\n",
       "      <td>UNK</td>\n",
       "      <td>Probable Cause</td>\n",
       "      <td>1948</td>\n",
       "      <td>2.0</td>\n",
       "      <td>100.000000</td>\n",
       "    </tr>\n",
       "    <tr>\n",
       "      <th>1</th>\n",
       "      <td>1962-07-19</td>\n",
       "      <td>BRIDGEPORT, CA</td>\n",
       "      <td>United States</td>\n",
       "      <td>Fatal(4)</td>\n",
       "      <td>Destroyed</td>\n",
       "      <td>Piper</td>\n",
       "      <td>PA24-180</td>\n",
       "      <td>1.0</td>\n",
       "      <td>Reciprocating</td>\n",
       "      <td>Unknown</td>\n",
       "      <td>Personal</td>\n",
       "      <td>4.0</td>\n",
       "      <td>0.0</td>\n",
       "      <td>0.0</td>\n",
       "      <td>0.0</td>\n",
       "      <td>UNK</td>\n",
       "      <td>Probable Cause</td>\n",
       "      <td>1962</td>\n",
       "      <td>4.0</td>\n",
       "      <td>100.000000</td>\n",
       "    </tr>\n",
       "    <tr>\n",
       "      <th>2</th>\n",
       "      <td>1974-08-30</td>\n",
       "      <td>Saltville, VA</td>\n",
       "      <td>United States</td>\n",
       "      <td>Fatal(3)</td>\n",
       "      <td>Destroyed</td>\n",
       "      <td>Cessna</td>\n",
       "      <td>172M</td>\n",
       "      <td>1.0</td>\n",
       "      <td>Reciprocating</td>\n",
       "      <td>Unknown</td>\n",
       "      <td>Personal</td>\n",
       "      <td>3.0</td>\n",
       "      <td>0.0</td>\n",
       "      <td>0.0</td>\n",
       "      <td>0.0</td>\n",
       "      <td>IMC</td>\n",
       "      <td>Probable Cause</td>\n",
       "      <td>1974</td>\n",
       "      <td>3.0</td>\n",
       "      <td>100.000000</td>\n",
       "    </tr>\n",
       "    <tr>\n",
       "      <th>3</th>\n",
       "      <td>1977-06-19</td>\n",
       "      <td>EUREKA, CA</td>\n",
       "      <td>United States</td>\n",
       "      <td>Fatal(2)</td>\n",
       "      <td>Destroyed</td>\n",
       "      <td>Rockwell</td>\n",
       "      <td>112</td>\n",
       "      <td>1.0</td>\n",
       "      <td>Reciprocating</td>\n",
       "      <td>Unknown</td>\n",
       "      <td>Personal</td>\n",
       "      <td>2.0</td>\n",
       "      <td>0.0</td>\n",
       "      <td>0.0</td>\n",
       "      <td>0.0</td>\n",
       "      <td>IMC</td>\n",
       "      <td>Probable Cause</td>\n",
       "      <td>1977</td>\n",
       "      <td>2.0</td>\n",
       "      <td>100.000000</td>\n",
       "    </tr>\n",
       "    <tr>\n",
       "      <th>4</th>\n",
       "      <td>1979-08-02</td>\n",
       "      <td>Canton, OH</td>\n",
       "      <td>United States</td>\n",
       "      <td>Fatal(1)</td>\n",
       "      <td>Destroyed</td>\n",
       "      <td>Cessna</td>\n",
       "      <td>501</td>\n",
       "      <td>1.0</td>\n",
       "      <td>Unknown</td>\n",
       "      <td>Unknown</td>\n",
       "      <td>Personal</td>\n",
       "      <td>1.0</td>\n",
       "      <td>2.0</td>\n",
       "      <td>0.0</td>\n",
       "      <td>0.0</td>\n",
       "      <td>VMC</td>\n",
       "      <td>Probable Cause</td>\n",
       "      <td>1979</td>\n",
       "      <td>3.0</td>\n",
       "      <td>33.333333</td>\n",
       "    </tr>\n",
       "  </tbody>\n",
       "</table>\n",
       "</div>"
      ],
      "text/plain": [
       "  Event date         Location        Country Injury severity Aircraft damage  \\\n",
       "0 1948-10-24  MOOSE CREEK, ID  United States        Fatal(2)       Destroyed   \n",
       "1 1962-07-19   BRIDGEPORT, CA  United States        Fatal(4)       Destroyed   \n",
       "2 1974-08-30    Saltville, VA  United States        Fatal(3)       Destroyed   \n",
       "3 1977-06-19       EUREKA, CA  United States        Fatal(2)       Destroyed   \n",
       "4 1979-08-02       Canton, OH  United States        Fatal(1)       Destroyed   \n",
       "\n",
       "       Make     Model  Number of engines    Engine type Far description  \\\n",
       "0   Stinson     108-3                1.0  Reciprocating         Unknown   \n",
       "1     Piper  PA24-180                1.0  Reciprocating         Unknown   \n",
       "2    Cessna      172M                1.0  Reciprocating         Unknown   \n",
       "3  Rockwell       112                1.0  Reciprocating         Unknown   \n",
       "4    Cessna       501                1.0        Unknown         Unknown   \n",
       "\n",
       "  Purpose of flight  Total fatal injuries  Total serious injuries  \\\n",
       "0          Personal                   2.0                     0.0   \n",
       "1          Personal                   4.0                     0.0   \n",
       "2          Personal                   3.0                     0.0   \n",
       "3          Personal                   2.0                     0.0   \n",
       "4          Personal                   1.0                     2.0   \n",
       "\n",
       "   Total minor injuries  Total uninjured Weather condition   Report status  \\\n",
       "0                   0.0              0.0               UNK  Probable Cause   \n",
       "1                   0.0              0.0               UNK  Probable Cause   \n",
       "2                   0.0              0.0               IMC  Probable Cause   \n",
       "3                   0.0              0.0               IMC  Probable Cause   \n",
       "4                   0.0              0.0               VMC  Probable Cause   \n",
       "\n",
       "   Year  Total passengers  Fatal percentage  \n",
       "0  1948               2.0        100.000000  \n",
       "1  1962               4.0        100.000000  \n",
       "2  1974               3.0        100.000000  \n",
       "3  1977               2.0        100.000000  \n",
       "4  1979               3.0         33.333333  "
      ]
     },
     "execution_count": 51,
     "metadata": {},
     "output_type": "execute_result"
    }
   ],
   "source": [
    "aviation_df.head()"
   ]
  },
  {
   "cell_type": "code",
   "execution_count": 52,
   "metadata": {},
   "outputs": [
    {
     "data": {
      "text/plain": [
       "6.796858286727178"
      ]
     },
     "execution_count": 52,
     "metadata": {},
     "output_type": "execute_result"
    }
   ],
   "source": [
    "total_serious_single = single_engine_planes['Total serious injuries'].sum()\n",
    "serious_per_accident_single = total_serious_single / total_single_engine_planes\n",
    "serious_single_engine_per = (serious_per_accident_single / mean_num_passengers_single) * 100\n",
    "serious_single_engine_per"
   ]
  },
  {
   "cell_type": "code",
   "execution_count": 53,
   "metadata": {},
   "outputs": [
    {
     "data": {
      "text/plain": [
       "8.547517903894542"
      ]
     },
     "execution_count": 53,
     "metadata": {},
     "output_type": "execute_result"
    }
   ],
   "source": [
    "total_minor_single = single_engine_planes['Total minor injuries'].sum()\n",
    "minor_per_accident_single = total_minor_single / total_single_engine_planes\n",
    "minor_single_engine_per = (minor_per_accident_single / mean_num_passengers_single) * 100\n",
    "minor_single_engine_per"
   ]
  },
  {
   "cell_type": "code",
   "execution_count": 54,
   "metadata": {},
   "outputs": [
    {
     "data": {
      "text/plain": [
       "69.28781720200075"
      ]
     },
     "execution_count": 54,
     "metadata": {},
     "output_type": "execute_result"
    }
   ],
   "source": [
    "total_uninjured_single = single_engine_planes['Total uninjured'].sum()\n",
    "uninjured_per_accident_single = total_uninjured_single / total_single_engine_planes\n",
    "uninjured_single_engine_per = (uninjured_per_accident_single / mean_num_passengers_single) * 100\n",
    "uninjured_single_engine_per\n",
    "\n"
   ]
  },
  {
   "cell_type": "code",
   "execution_count": 55,
   "metadata": {},
   "outputs": [
    {
     "data": {
      "text/plain": [
       "20.738224348750663"
      ]
     },
     "execution_count": 55,
     "metadata": {},
     "output_type": "execute_result"
    }
   ],
   "source": [
    "mean_num_passengers_two = aviation_df.loc[aviation_df['Number of engines'] == 2, 'Total passengers'].mean()\n",
    "mean_num_passengers_two"
   ]
  },
  {
   "cell_type": "code",
   "execution_count": 56,
   "metadata": {},
   "outputs": [],
   "source": [
    "two_engine_planes = aviation_df[aviation_df['Number of engines'] == 2]\n",
    "total_two_engine_planes = two_engine_planes.shape[0]"
   ]
  },
  {
   "cell_type": "code",
   "execution_count": null,
   "metadata": {},
   "outputs": [],
   "source": []
  },
  {
   "cell_type": "code",
   "execution_count": 57,
   "metadata": {},
   "outputs": [
    {
     "data": {
      "text/plain": [
       "4.805094261265465"
      ]
     },
     "execution_count": 57,
     "metadata": {},
     "output_type": "execute_result"
    }
   ],
   "source": [
    "\n",
    "total_fatalities_two = two_engine_planes['Total fatal injuries'].sum()\n",
    "fatalities_per_accident_two = total_fatalities_two / total_two_engine_planes\n",
    "fatality_two_engine_per = ( fatalities_per_accident_two/ mean_num_passengers_two) * 100\n",
    "fatality_two_engine_per"
   ]
  },
  {
   "cell_type": "code",
   "execution_count": null,
   "metadata": {},
   "outputs": [],
   "source": [
    "total_serious_two = two_engine_planes['Total serious injuries'].sum()\n",
    "serious_per_accident_two = total_serious_two / total_two_engine_planes\n",
    "serious_two_engine_per = ( serious_per_accident_two/ mean_num_passengers_two) * 100\n",
    "serious_two_engine_per"
   ]
  },
  {
   "cell_type": "code",
   "execution_count": null,
   "metadata": {},
   "outputs": [],
   "source": [
    "total_minor_two = two_engine_planes['Total minor injuries'].sum()\n",
    "minor_per_accident_two = total_minor_two / total_two_engine_planes\n",
    "minor_two_engine_per = ( minor_per_accident_two/ mean_num_passengers_two) * 100\n",
    "minor_two_engine_per"
   ]
  },
  {
   "cell_type": "code",
   "execution_count": null,
   "metadata": {},
   "outputs": [],
   "source": [
    "total_uninjured_two = two_engine_planes['Total uninjured'].sum()\n",
    "uninjured_per_accident_two = total_uninjured_two / total_two_engine_planes\n",
    "uninjured_two_engine_per = ( uninjured_per_accident_two/ mean_num_passengers_two) * 100\n",
    "uninjured_two_engine_per"
   ]
  },
  {
   "cell_type": "code",
   "execution_count": null,
   "metadata": {},
   "outputs": [],
   "source": [
    "mean_num_passengers_three = aviation_df.loc[aviation_df['Number of engines'] == 3, 'Total passengers'].mean()\n",
    "mean_num_passengers_three"
   ]
  },
  {
   "cell_type": "code",
   "execution_count": null,
   "metadata": {},
   "outputs": [],
   "source": [
    "three_engine_planes = aviation_df[aviation_df['Number of engines'] == 3]\n",
    "total_three_engine_planes = three_engine_planes.shape[0]"
   ]
  },
  {
   "cell_type": "code",
   "execution_count": null,
   "metadata": {},
   "outputs": [],
   "source": [
    "total_fatalities_three = three_engine_planes['Total fatal injuries'].sum()\n",
    "fatalities_per_accident_three = total_fatalities_three / total_three_engine_planes\n",
    "fatality_three_engine_per = ( fatalities_per_accident_three/ mean_num_passengers_three) * 100\n",
    "fatality_three_engine_per"
   ]
  },
  {
   "cell_type": "code",
   "execution_count": null,
   "metadata": {},
   "outputs": [],
   "source": [
    "total_serious_three = three_engine_planes['Total serious injuries'].sum()\n",
    "serious_per_accident_three = total_serious_three / total_three_engine_planes\n",
    "serious_three_engine_per = ( serious_per_accident_three/ mean_num_passengers_three) * 100\n",
    "serious_three_engine_per"
   ]
  },
  {
   "cell_type": "code",
   "execution_count": null,
   "metadata": {},
   "outputs": [],
   "source": [
    "total_minor_three = three_engine_planes['Total minor injuries'].sum()\n",
    "minor_per_accident_three = total_minor_three / total_three_engine_planes\n",
    "minor_three_engine_per = ( minor_per_accident_three/ mean_num_passengers_three) * 100\n",
    "minor_three_engine_per"
   ]
  },
  {
   "cell_type": "code",
   "execution_count": null,
   "metadata": {},
   "outputs": [],
   "source": [
    "total_uninjured_three = three_engine_planes['Total uninjured'].sum()\n",
    "uninjured_per_accident_three = total_uninjured_three / total_three_engine_planes\n",
    "uninjured_three_engine_per = ( uninjured_per_accident_three/ mean_num_passengers_three) * 100\n",
    "uninjured_three_engine_per"
   ]
  },
  {
   "cell_type": "code",
   "execution_count": null,
   "metadata": {},
   "outputs": [],
   "source": [
    "mean_num_passengers_four = aviation_df.loc[aviation_df['Number of engines'] == 4, 'Total passengers'].mean()\n",
    "mean_num_passengers_four"
   ]
  },
  {
   "cell_type": "code",
   "execution_count": null,
   "metadata": {},
   "outputs": [],
   "source": [
    "four_engine_planes = aviation_df[aviation_df['Number of engines'] == 4]\n",
    "total_four_engine_planes = four_engine_planes.shape[0]"
   ]
  },
  {
   "cell_type": "code",
   "execution_count": null,
   "metadata": {},
   "outputs": [],
   "source": [
    "total_fatalities_four = four_engine_planes['Total fatal injuries'].sum()\n",
    "fatalities_per_accident_four = total_fatalities_four / total_four_engine_planes\n",
    "fatality_four_engine_per = ( fatalities_per_accident_four/ mean_num_passengers_four) * 100\n",
    "fatality_four_engine_per"
   ]
  },
  {
   "cell_type": "code",
   "execution_count": null,
   "metadata": {},
   "outputs": [],
   "source": [
    "total_serious_four = four_engine_planes['Total serious injuries'].sum()\n",
    "serious_per_accident_four = total_serious_four / total_four_engine_planes\n",
    "serious_four_engine_per = ( serious_per_accident_four/ mean_num_passengers_four) * 100\n",
    "serious_four_engine_per"
   ]
  },
  {
   "cell_type": "code",
   "execution_count": null,
   "metadata": {},
   "outputs": [],
   "source": [
    "total_minor_four = four_engine_planes['Total minor injuries'].sum()\n",
    "minor_per_accident_four = total_minor_four / total_four_engine_planes\n",
    "minor_four_engine_per = ( minor_per_accident_four/ mean_num_passengers_four) * 100\n",
    "minor_four_engine_per"
   ]
  },
  {
   "cell_type": "code",
   "execution_count": null,
   "metadata": {},
   "outputs": [],
   "source": [
    "total_uninjured_four = four_engine_planes['Total uninjured'].sum()\n",
    "uninjured_per_accident_four = total_uninjured_four / total_four_engine_planes\n",
    "uninjured_four_engine_per = ( uninjured_per_accident_four/ mean_num_passengers_four) * 100\n",
    "uninjured_four_engine_per"
   ]
  },
  {
   "cell_type": "code",
   "execution_count": null,
   "metadata": {},
   "outputs": [],
   "source": [
    "mean_num_passengers_zero = aviation_df.loc[aviation_df['Number of engines'] == 0, 'Total passengers'].mean()\n",
    "mean_num_passengers_zero"
   ]
  },
  {
   "cell_type": "code",
   "execution_count": null,
   "metadata": {},
   "outputs": [],
   "source": [
    "zero_engine = aviation_df[aviation_df['Number of engines'] == 0]\n",
    "total_zero_engine = zero_engine.shape[0]"
   ]
  },
  {
   "cell_type": "code",
   "execution_count": null,
   "metadata": {},
   "outputs": [],
   "source": [
    "total_fatalities_zero = zero_engine['Total fatal injuries'].sum()\n",
    "fatalities_per_accident_zero = total_fatalities_zero / total_zero_engine\n",
    "fatality_zero_engine_per = ( fatalities_per_accident_zero/ mean_num_passengers_zero) * 100\n",
    "fatality_zero_engine_per"
   ]
  },
  {
   "cell_type": "code",
   "execution_count": null,
   "metadata": {},
   "outputs": [],
   "source": [
    "total_serious_zero = zero_engine['Total serious injuries'].sum()\n",
    "serious_per_accident_zero = total_serious_zero / total_zero_engine\n",
    "serious_zero_engine_per = ( serious_per_accident_zero/ mean_num_passengers_zero) * 100\n",
    "serious_zero_engine_per"
   ]
  },
  {
   "cell_type": "code",
   "execution_count": null,
   "metadata": {},
   "outputs": [],
   "source": [
    "total_minor_zero = zero_engine['Total minor injuries'].sum()\n",
    "minor_per_accident_zero = total_minor_zero / total_zero_engine\n",
    "minor_zero_engine_per = ( minor_per_accident_zero/ mean_num_passengers_zero) * 100\n",
    "minor_zero_engine_per"
   ]
  },
  {
   "cell_type": "code",
   "execution_count": null,
   "metadata": {},
   "outputs": [],
   "source": [
    "total_uninjured_zero = zero_engine['Total uninjured'].sum()\n",
    "uninjured_per_accident_zero = total_uninjured_zero / total_zero_engine\n",
    "uninjured_zero_engine_per = ( uninjured_per_accident_zero/ mean_num_passengers_zero) * 100\n",
    "uninjured_zero_engine_per"
   ]
  },
  {
   "cell_type": "code",
   "execution_count": null,
   "metadata": {},
   "outputs": [],
   "source": [
    "fatality_percent = [fatality_zero_engine_per, fatality_single_engine_per, fatality_two_engine_per,\n",
    "                     fatality_three_engine_per, fatality_four_engine_per]"
   ]
  },
  {
   "cell_type": "code",
   "execution_count": null,
   "metadata": {},
   "outputs": [],
   "source": [
    "serious_percent = [serious_zero_engine_per, serious_single_engine_per, serious_two_engine_per,\n",
    "                     serious_three_engine_per, serious_four_engine_per]"
   ]
  },
  {
   "cell_type": "code",
   "execution_count": null,
   "metadata": {},
   "outputs": [],
   "source": [
    "minor_percent = [minor_zero_engine_per, minor_single_engine_per, minor_two_engine_per,\n",
    "                     minor_three_engine_per, minor_four_engine_per]"
   ]
  },
  {
   "cell_type": "code",
   "execution_count": null,
   "metadata": {},
   "outputs": [],
   "source": [
    "uninjured_percent = [uninjured_zero_engine_per, uninjured_single_engine_per, uninjured_two_engine_per,\n",
    "                     uninjured_three_engine_per, uninjured_four_engine_per]"
   ]
  },
  {
   "cell_type": "code",
   "execution_count": null,
   "metadata": {},
   "outputs": [],
   "source": [
    "overall_injury_0 = fatality_zero_engine_per + serious_zero_engine_per + minor_zero_engine_per"
   ]
  },
  {
   "cell_type": "code",
   "execution_count": null,
   "metadata": {},
   "outputs": [],
   "source": [
    "overall_injury_1 = fatality_single_engine_per + serious_single_engine_per + minor_single_engine_per"
   ]
  },
  {
   "cell_type": "code",
   "execution_count": null,
   "metadata": {},
   "outputs": [],
   "source": [
    "overall_injury_2 = fatality_two_engine_per + serious_two_engine_per + minor_two_engine_per"
   ]
  },
  {
   "cell_type": "code",
   "execution_count": null,
   "metadata": {},
   "outputs": [],
   "source": [
    "overall_injury_3 = fatality_three_engine_per + serious_three_engine_per + minor_three_engine_per"
   ]
  },
  {
   "cell_type": "code",
   "execution_count": null,
   "metadata": {},
   "outputs": [],
   "source": [
    "overall_injury_4 = fatality_four_engine_per + serious_four_engine_per + minor_four_engine_per"
   ]
  },
  {
   "cell_type": "code",
   "execution_count": null,
   "metadata": {},
   "outputs": [],
   "source": [
    "overall_injury = [overall_injury_0, overall_injury_1, overall_injury_2, overall_injury_3, overall_injury_4]"
   ]
  },
  {
   "cell_type": "code",
   "execution_count": null,
   "metadata": {},
   "outputs": [],
   "source": [
    "num_engines = [0, 1, 2, 3, 4]"
   ]
  },
  {
   "cell_type": "code",
   "execution_count": null,
   "metadata": {
    "scrolled": false
   },
   "outputs": [],
   "source": [
    "fig, axes = plt.subplots(figsize = (10,6), nrows = 2, ncols = 2)\n",
    "\n",
    "axes1 = axes[0][0]\n",
    "axes2 = axes[0][1]\n",
    "axes3 = axes[1][0]\n",
    "axes4 = axes[1][1]\n",
    "\n",
    "axes1.bar(num_engines, fatality_percent)\n",
    "axes1.set_title('Chance of Fatal Injury')\n",
    "axes2.bar(num_engines, serious_percent)\n",
    "axes2.set_title('Chance of Serious Injury')\n",
    "axes3.bar(num_engines, minor_percent)\n",
    "axes3.set_title('Chance of Minor Injury')\n",
    "axes4.bar(num_engines, uninjured_percent)\n",
    "axes4.set_title('Chance of No Injury');"
   ]
  },
  {
   "cell_type": "code",
   "execution_count": null,
   "metadata": {},
   "outputs": [],
   "source": [
    "fig, ax = plt.subplots(figsize = (10,6))\n",
    "\n",
    "ax.bar(num_engines, overall_injury)"
   ]
  },
  {
   "cell_type": "code",
   "execution_count": null,
   "metadata": {},
   "outputs": [],
   "source": [
    "#fig, axes = plt.subplots(figsize = (10,6), nrows = 2, ncols = 2)\n",
    "\n",
    "#axes1 = axes[0][0]\n",
    "#axes2 = axes[0][1]\n",
    "#axes3 = axes[1][0]\n",
    "#axes4 = axes[1][1]\n",
    "\n",
    "#axes1 = sns.boxplot(x='Number of engines', y=\"Total fatal injuries\", data=aviation_df)\n",
    "#axes2.boxplot(x = aviation_df['Number of engines'], height = aviation_df['Total serious injuries'])\n",
    "#axes3.boxplot(x = aviation_df['Number of engines'], height = aviation_df['Total minor injuries'])\n",
    "#axes4.boxplot(x = aviation_df['Number of engines'], height = aviation_df['Total uninjured'])\n",
    "#plt.show()"
   ]
  },
  {
   "cell_type": "code",
   "execution_count": null,
   "metadata": {},
   "outputs": [],
   "source": [
    "aviation_df.head()"
   ]
  },
  {
   "cell_type": "code",
   "execution_count": null,
   "metadata": {},
   "outputs": [],
   "source": [
    "aviation_df.shape"
   ]
  },
  {
   "cell_type": "code",
   "execution_count": null,
   "metadata": {},
   "outputs": [],
   "source": []
  }
 ],
 "metadata": {
  "kernelspec": {
   "display_name": "Python 3",
   "language": "python",
   "name": "python3"
  },
  "language_info": {
   "codemirror_mode": {
    "name": "ipython",
    "version": 3
   },
   "file_extension": ".py",
   "mimetype": "text/x-python",
   "name": "python",
   "nbconvert_exporter": "python",
   "pygments_lexer": "ipython3",
   "version": "3.8.5"
  }
 },
 "nbformat": 4,
 "nbformat_minor": 2
}
